{
 "cells": [
  {
   "cell_type": "markdown",
   "id": "d4d2bb40",
   "metadata": {
    "id": "d4d2bb40"
   },
   "source": [
    "## ClariQ: larifying Questions for Open-Domain Dialogue Systems\n",
    "\n",
    "Two-task challenge: \n",
    "- Assign a score to whether a query needs clarification, from 1 (does not need clarification) to 4 (needs clarification)\n",
    "- Whenever a query needs clarification, pick one clarifying question from an apposite question bank \n",
    "\n",
    "On this notebook we will only focus on step one and I may pick it up later for step 2. Let's get started!"
   ]
  },
  {
   "cell_type": "code",
   "execution_count": 2,
   "id": "3db79831",
   "metadata": {
    "executionInfo": {
     "elapsed": 10565,
     "status": "ok",
     "timestamp": 1652686917303,
     "user": {
      "displayName": "Federico Panero",
      "userId": "04702959575507447736"
     },
     "user_tz": -120
    },
    "id": "3db79831"
   },
   "outputs": [],
   "source": [
    "import pandas as pd \n",
    "import matplotlib.pyplot as plt \n",
    "import seaborn as sns\n",
    "import numpy as np \n",
    "from nltk.corpus import stopwords\n",
    "from string import punctuation \n",
    "from transformers import AutoTokenizer\n",
    "from transformers import create_optimizer, TFAutoModelForSequenceClassification\n",
    "import tensorflow as tf\n",
    "from tensorflow.keras.optimizers import Adam\n",
    "from sklearn.metrics import precision_score, recall_score, f1_score"
   ]
  },
  {
   "cell_type": "code",
   "execution_count": 3,
   "id": "khmu7eI9AI3u",
   "metadata": {
    "colab": {
     "base_uri": "https://localhost:8080/"
    },
    "executionInfo": {
     "elapsed": 20944,
     "status": "ok",
     "timestamp": 1652686938219,
     "user": {
      "displayName": "Federico Panero",
      "userId": "04702959575507447736"
     },
     "user_tz": -120
    },
    "id": "khmu7eI9AI3u",
    "outputId": "df3a71ee-26c8-48c9-f3a8-92bfe8707db1"
   },
   "outputs": [
    {
     "name": "stdout",
     "output_type": "stream",
     "text": [
      "Mounted at /content/drive\n"
     ]
    }
   ],
   "source": [
    "from google.colab import drive\n",
    "drive.mount('/content/drive')"
   ]
  },
  {
   "cell_type": "code",
   "execution_count": 4,
   "id": "01d104ca",
   "metadata": {
    "executionInfo": {
     "elapsed": 1964,
     "status": "ok",
     "timestamp": 1652686940170,
     "user": {
      "displayName": "Federico Panero",
      "userId": "04702959575507447736"
     },
     "user_tz": -120
    },
    "id": "01d104ca",
    "scrolled": true
   },
   "outputs": [],
   "source": [
    "train = pd.read_csv('/content/drive/MyDrive/clariQ/data/train.tsv', sep = '\\t')\n",
    "dev = pd.read_csv('/content/drive/MyDrive/clariQ/data/dev.tsv', sep = '\\t')\n",
    "test = pd.read_csv('/content/drive/MyDrive/clariQ/data/test_with_labels.tsv', sep = '\\t') "
   ]
  },
  {
   "cell_type": "code",
   "execution_count": 5,
   "id": "2cad136a",
   "metadata": {
    "colab": {
     "base_uri": "https://localhost:8080/",
     "height": 562
    },
    "executionInfo": {
     "elapsed": 36,
     "status": "ok",
     "timestamp": 1652686940175,
     "user": {
      "displayName": "Federico Panero",
      "userId": "04702959575507447736"
     },
     "user_tz": -120
    },
    "id": "2cad136a",
    "outputId": "e2338adb-c3e7-465b-f6a9-d95b55100b74"
   },
   "outputs": [
    {
     "name": "stdout",
     "output_type": "stream",
     "text": [
      "Train set: 9176 obs, \n",
      "Dev set: 2313, \n",
      "Test set: 4499\n"
     ]
    },
    {
     "data": {
      "text/html": [
       "\n",
       "  <div id=\"df-7e9de715-8780-417e-b808-27fa9efb672d\">\n",
       "    <div class=\"colab-df-container\">\n",
       "      <div>\n",
       "<style scoped>\n",
       "    .dataframe tbody tr th:only-of-type {\n",
       "        vertical-align: middle;\n",
       "    }\n",
       "\n",
       "    .dataframe tbody tr th {\n",
       "        vertical-align: top;\n",
       "    }\n",
       "\n",
       "    .dataframe thead th {\n",
       "        text-align: right;\n",
       "    }\n",
       "</style>\n",
       "<table border=\"1\" class=\"dataframe\">\n",
       "  <thead>\n",
       "    <tr style=\"text-align: right;\">\n",
       "      <th></th>\n",
       "      <th>topic_id</th>\n",
       "      <th>initial_request</th>\n",
       "      <th>topic_desc</th>\n",
       "      <th>clarification_need</th>\n",
       "      <th>facet_id</th>\n",
       "      <th>facet_desc</th>\n",
       "      <th>question_id</th>\n",
       "      <th>question</th>\n",
       "      <th>answer</th>\n",
       "    </tr>\n",
       "  </thead>\n",
       "  <tbody>\n",
       "    <tr>\n",
       "      <th>0</th>\n",
       "      <td>1</td>\n",
       "      <td>Tell me about Obama family tree.</td>\n",
       "      <td>Find information on President Barack Obama\\'s ...</td>\n",
       "      <td>2</td>\n",
       "      <td>F0001</td>\n",
       "      <td>Find the TIME magazine photo essay \"Barack Oba...</td>\n",
       "      <td>Q00384</td>\n",
       "      <td>are you interested in seeing barack obamas family</td>\n",
       "      <td>yes am interested in obamas family</td>\n",
       "    </tr>\n",
       "    <tr>\n",
       "      <th>1</th>\n",
       "      <td>1</td>\n",
       "      <td>Tell me about Obama family tree.</td>\n",
       "      <td>Find information on President Barack Obama\\'s ...</td>\n",
       "      <td>2</td>\n",
       "      <td>F0001</td>\n",
       "      <td>Find the TIME magazine photo essay \"Barack Oba...</td>\n",
       "      <td>Q03442</td>\n",
       "      <td>would you like to know barack obamas geneology</td>\n",
       "      <td>yes i want to know who made up his family</td>\n",
       "    </tr>\n",
       "    <tr>\n",
       "      <th>2</th>\n",
       "      <td>1</td>\n",
       "      <td>Tell me about Obama family tree.</td>\n",
       "      <td>Find information on President Barack Obama\\'s ...</td>\n",
       "      <td>2</td>\n",
       "      <td>F0001</td>\n",
       "      <td>Find the TIME magazine photo essay \"Barack Oba...</td>\n",
       "      <td>Q03402</td>\n",
       "      <td>would you like to know about obamas ancestors</td>\n",
       "      <td>yes this is what am looking for</td>\n",
       "    </tr>\n",
       "    <tr>\n",
       "      <th>3</th>\n",
       "      <td>1</td>\n",
       "      <td>Tell me about Obama family tree.</td>\n",
       "      <td>Find information on President Barack Obama\\'s ...</td>\n",
       "      <td>2</td>\n",
       "      <td>F0001</td>\n",
       "      <td>Find the TIME magazine photo essay \"Barack Oba...</td>\n",
       "      <td>Q03725</td>\n",
       "      <td>would you like to know who is currently alive ...</td>\n",
       "      <td>no find the barack obamas family tree time mag...</td>\n",
       "    </tr>\n",
       "    <tr>\n",
       "      <th>4</th>\n",
       "      <td>1</td>\n",
       "      <td>Tell me about Obama family tree.</td>\n",
       "      <td>Find information on President Barack Obama\\'s ...</td>\n",
       "      <td>2</td>\n",
       "      <td>F0001</td>\n",
       "      <td>Find the TIME magazine photo essay \"Barack Oba...</td>\n",
       "      <td>Q00769</td>\n",
       "      <td>are you looking for biological information on ...</td>\n",
       "      <td>no i need the specific time magazine article t...</td>\n",
       "    </tr>\n",
       "  </tbody>\n",
       "</table>\n",
       "</div>\n",
       "      <button class=\"colab-df-convert\" onclick=\"convertToInteractive('df-7e9de715-8780-417e-b808-27fa9efb672d')\"\n",
       "              title=\"Convert this dataframe to an interactive table.\"\n",
       "              style=\"display:none;\">\n",
       "        \n",
       "  <svg xmlns=\"http://www.w3.org/2000/svg\" height=\"24px\"viewBox=\"0 0 24 24\"\n",
       "       width=\"24px\">\n",
       "    <path d=\"M0 0h24v24H0V0z\" fill=\"none\"/>\n",
       "    <path d=\"M18.56 5.44l.94 2.06.94-2.06 2.06-.94-2.06-.94-.94-2.06-.94 2.06-2.06.94zm-11 1L8.5 8.5l.94-2.06 2.06-.94-2.06-.94L8.5 2.5l-.94 2.06-2.06.94zm10 10l.94 2.06.94-2.06 2.06-.94-2.06-.94-.94-2.06-.94 2.06-2.06.94z\"/><path d=\"M17.41 7.96l-1.37-1.37c-.4-.4-.92-.59-1.43-.59-.52 0-1.04.2-1.43.59L10.3 9.45l-7.72 7.72c-.78.78-.78 2.05 0 2.83L4 21.41c.39.39.9.59 1.41.59.51 0 1.02-.2 1.41-.59l7.78-7.78 2.81-2.81c.8-.78.8-2.07 0-2.86zM5.41 20L4 18.59l7.72-7.72 1.47 1.35L5.41 20z\"/>\n",
       "  </svg>\n",
       "      </button>\n",
       "      \n",
       "  <style>\n",
       "    .colab-df-container {\n",
       "      display:flex;\n",
       "      flex-wrap:wrap;\n",
       "      gap: 12px;\n",
       "    }\n",
       "\n",
       "    .colab-df-convert {\n",
       "      background-color: #E8F0FE;\n",
       "      border: none;\n",
       "      border-radius: 50%;\n",
       "      cursor: pointer;\n",
       "      display: none;\n",
       "      fill: #1967D2;\n",
       "      height: 32px;\n",
       "      padding: 0 0 0 0;\n",
       "      width: 32px;\n",
       "    }\n",
       "\n",
       "    .colab-df-convert:hover {\n",
       "      background-color: #E2EBFA;\n",
       "      box-shadow: 0px 1px 2px rgba(60, 64, 67, 0.3), 0px 1px 3px 1px rgba(60, 64, 67, 0.15);\n",
       "      fill: #174EA6;\n",
       "    }\n",
       "\n",
       "    [theme=dark] .colab-df-convert {\n",
       "      background-color: #3B4455;\n",
       "      fill: #D2E3FC;\n",
       "    }\n",
       "\n",
       "    [theme=dark] .colab-df-convert:hover {\n",
       "      background-color: #434B5C;\n",
       "      box-shadow: 0px 1px 3px 1px rgba(0, 0, 0, 0.15);\n",
       "      filter: drop-shadow(0px 1px 2px rgba(0, 0, 0, 0.3));\n",
       "      fill: #FFFFFF;\n",
       "    }\n",
       "  </style>\n",
       "\n",
       "      <script>\n",
       "        const buttonEl =\n",
       "          document.querySelector('#df-7e9de715-8780-417e-b808-27fa9efb672d button.colab-df-convert');\n",
       "        buttonEl.style.display =\n",
       "          google.colab.kernel.accessAllowed ? 'block' : 'none';\n",
       "\n",
       "        async function convertToInteractive(key) {\n",
       "          const element = document.querySelector('#df-7e9de715-8780-417e-b808-27fa9efb672d');\n",
       "          const dataTable =\n",
       "            await google.colab.kernel.invokeFunction('convertToInteractive',\n",
       "                                                     [key], {});\n",
       "          if (!dataTable) return;\n",
       "\n",
       "          const docLinkHtml = 'Like what you see? Visit the ' +\n",
       "            '<a target=\"_blank\" href=https://colab.research.google.com/notebooks/data_table.ipynb>data table notebook</a>'\n",
       "            + ' to learn more about interactive tables.';\n",
       "          element.innerHTML = '';\n",
       "          dataTable['output_type'] = 'display_data';\n",
       "          await google.colab.output.renderOutput(dataTable, element);\n",
       "          const docLink = document.createElement('div');\n",
       "          docLink.innerHTML = docLinkHtml;\n",
       "          element.appendChild(docLink);\n",
       "        }\n",
       "      </script>\n",
       "    </div>\n",
       "  </div>\n",
       "  "
      ],
      "text/plain": [
       "   topic_id                   initial_request  \\\n",
       "0         1  Tell me about Obama family tree.   \n",
       "1         1  Tell me about Obama family tree.   \n",
       "2         1  Tell me about Obama family tree.   \n",
       "3         1  Tell me about Obama family tree.   \n",
       "4         1  Tell me about Obama family tree.   \n",
       "\n",
       "                                          topic_desc  clarification_need  \\\n",
       "0  Find information on President Barack Obama\\'s ...                   2   \n",
       "1  Find information on President Barack Obama\\'s ...                   2   \n",
       "2  Find information on President Barack Obama\\'s ...                   2   \n",
       "3  Find information on President Barack Obama\\'s ...                   2   \n",
       "4  Find information on President Barack Obama\\'s ...                   2   \n",
       "\n",
       "  facet_id                                         facet_desc question_id  \\\n",
       "0    F0001  Find the TIME magazine photo essay \"Barack Oba...      Q00384   \n",
       "1    F0001  Find the TIME magazine photo essay \"Barack Oba...      Q03442   \n",
       "2    F0001  Find the TIME magazine photo essay \"Barack Oba...      Q03402   \n",
       "3    F0001  Find the TIME magazine photo essay \"Barack Oba...      Q03725   \n",
       "4    F0001  Find the TIME magazine photo essay \"Barack Oba...      Q00769   \n",
       "\n",
       "                                            question  \\\n",
       "0  are you interested in seeing barack obamas family   \n",
       "1     would you like to know barack obamas geneology   \n",
       "2      would you like to know about obamas ancestors   \n",
       "3  would you like to know who is currently alive ...   \n",
       "4  are you looking for biological information on ...   \n",
       "\n",
       "                                              answer  \n",
       "0                 yes am interested in obamas family  \n",
       "1          yes i want to know who made up his family  \n",
       "2                    yes this is what am looking for  \n",
       "3  no find the barack obamas family tree time mag...  \n",
       "4  no i need the specific time magazine article t...  "
      ]
     },
     "execution_count": 5,
     "metadata": {},
     "output_type": "execute_result"
    }
   ],
   "source": [
    "print(f'Train set: {len(train)} obs, \\nDev set: {len(dev)}, \\nTest set: {len(test)}')\n",
    "train.head()"
   ]
  },
  {
   "cell_type": "code",
   "execution_count": 6,
   "id": "58d50f9e",
   "metadata": {
    "colab": {
     "base_uri": "https://localhost:8080/"
    },
    "executionInfo": {
     "elapsed": 30,
     "status": "ok",
     "timestamp": 1652686940178,
     "user": {
      "displayName": "Federico Panero",
      "userId": "04702959575507447736"
     },
     "user_tz": -120
    },
    "id": "58d50f9e",
    "outputId": "883e529a-a93b-4c5d-d48f-00fd83241c72"
   },
   "outputs": [
    {
     "name": "stdout",
     "output_type": "stream",
     "text": [
      "187 50 62\n"
     ]
    }
   ],
   "source": [
    "#Requests are repeated based on the amounts of clarification questions. The real lengths are:\n",
    "print(len(train['initial_request'].unique()), len(dev['initial_request'].unique()), len(test['initial_request'].unique()), )"
   ]
  },
  {
   "cell_type": "code",
   "execution_count": 7,
   "id": "7713246f",
   "metadata": {
    "colab": {
     "base_uri": "https://localhost:8080/"
    },
    "executionInfo": {
     "elapsed": 28,
     "status": "ok",
     "timestamp": 1652686940180,
     "user": {
      "displayName": "Federico Panero",
      "userId": "04702959575507447736"
     },
     "user_tz": -120
    },
    "id": "7713246f",
    "outputId": "24c911b6-1c2d-4c4d-c20e-7aa4c8611a4c"
   },
   "outputs": [
    {
     "name": "stdout",
     "output_type": "stream",
     "text": [
      "187 50 62\n"
     ]
    }
   ],
   "source": [
    "train_q = train.drop_duplicates(subset=['initial_request'])\n",
    "dev_q = dev.drop_duplicates(subset=['initial_request'])\n",
    "test_q = test.drop_duplicates(subset=['initial_request'])\n",
    "\n",
    "print(len(train_q), len(dev_q),len(test_q))"
   ]
  },
  {
   "cell_type": "markdown",
   "id": "bee90ccb",
   "metadata": {
    "id": "bee90ccb"
   },
   "source": [
    "Target label distribution in train and dev set. We are not allowed to look at the test set until we get our results!"
   ]
  },
  {
   "cell_type": "markdown",
   "id": "9979b37e",
   "metadata": {
    "id": "9979b37e"
   },
   "source": [
    "The distributions look balanced across train and dev set (with greater frequency at values 2 and 3). We see that class 1 for the dev set is just slightly more unbalanced in favor of class 4, but this will not be an issue!"
   ]
  },
  {
   "cell_type": "code",
   "execution_count": 8,
   "id": "4f1d5b98",
   "metadata": {
    "colab": {
     "base_uri": "https://localhost:8080/",
     "height": 296
    },
    "executionInfo": {
     "elapsed": 647,
     "status": "ok",
     "timestamp": 1652686940805,
     "user": {
      "displayName": "Federico Panero",
      "userId": "04702959575507447736"
     },
     "user_tz": -120
    },
    "id": "4f1d5b98",
    "outputId": "7f2c3277-3130-4845-bebd-56cd17765390"
   },
   "outputs": [
    {
     "data": {
      "image/png": "[encoded data removed]",
      "text/plain": [
       "<Figure size 864x288 with 2 Axes>"
      ]
     },
     "metadata": {
      "needs_background": "light"
     },
     "output_type": "display_data"
    }
   ],
   "source": [
    "fig, axs = plt.subplots(1,2, sharey = True, figsize = (12,4)) \n",
    "sns.histplot(data = train_q, x = 'clarification_need', ax = axs[0], stat = 'probability')\n",
    "axs[0].set_title('Train set')\n",
    "sns.histplot(data = dev_q, x = 'clarification_need', ax = axs[1], stat = 'probability')\n",
    "axs[1].set_title('Dev set')\n",
    "plt.show()"
   ]
  },
  {
   "cell_type": "code",
   "execution_count": 9,
   "id": "92c990da",
   "metadata": {
    "executionInfo": {
     "elapsed": 21,
     "status": "ok",
     "timestamp": 1652686940807,
     "user": {
      "displayName": "Federico Panero",
      "userId": "04702959575507447736"
     },
     "user_tz": -120
    },
    "id": "92c990da"
   },
   "outputs": [],
   "source": [
    "colX = 'initial_request'\n",
    "coly = 'clarification_need'"
   ]
  },
  {
   "cell_type": "code",
   "execution_count": 10,
   "id": "6f489dd5",
   "metadata": {
    "executionInfo": {
     "elapsed": 24,
     "status": "ok",
     "timestamp": 1652686940812,
     "user": {
      "displayName": "Federico Panero",
      "userId": "04702959575507447736"
     },
     "user_tz": -120
    },
    "id": "6f489dd5"
   },
   "outputs": [],
   "source": [
    "X_train = train_q[colX]\n",
    "y_train = train_q[coly]-1\n",
    "\n",
    "X_dev = dev_q[colX]\n",
    "y_dev = dev_q[coly]-1\n",
    "\n",
    "X_test = test_q[colX]\n",
    "y_test = test_q[coly]-1"
   ]
  },
  {
   "cell_type": "code",
   "execution_count": 11,
   "id": "5c9de6eb",
   "metadata": {
    "executionInfo": {
     "elapsed": 26,
     "status": "ok",
     "timestamp": 1652686940815,
     "user": {
      "displayName": "Federico Panero",
      "userId": "04702959575507447736"
     },
     "user_tz": -120
    },
    "id": "5c9de6eb"
   },
   "outputs": [],
   "source": [
    "# #Remove stopwords and punctuation\n",
    "# sw = set(stopwords.words('english'))\n",
    "# punct = list(punctuation)\n",
    "# sw.update(punct)\n",
    "\n",
    "#only remove punctuation\n",
    "sw = list(punctuation)\n",
    "\n",
    "def clean_data(txt):\n",
    "    col = [i.strip() for i in txt.split()  if i.strip().lower() not in sw if i.strip().isalpha()]\n",
    "    return ' '.join(col)\n",
    "\n",
    "X_train = X_train.apply(lambda x: clean_data(x))\n",
    "X_dev = X_dev.apply(lambda x: clean_data(x))\n",
    "X_test = X_test.apply(lambda x: clean_data(x))"
   ]
  },
  {
   "cell_type": "code",
   "execution_count": 12,
   "id": "01020c47",
   "metadata": {
    "executionInfo": {
     "elapsed": 368,
     "status": "ok",
     "timestamp": 1652686941162,
     "user": {
      "displayName": "Federico Panero",
      "userId": "04702959575507447736"
     },
     "user_tz": -120
    },
    "id": "01020c47"
   },
   "outputs": [],
   "source": [
    "# #Exponential decay after n epochs\n",
    "def scheduler(epoch, lr):\n",
    "    if epoch < 2:\n",
    "        return lr\n",
    "    else:\n",
    "        return lr * tf.math.exp(-0.1)"
   ]
  },
  {
   "cell_type": "code",
   "execution_count": 13,
   "id": "6e361993",
   "metadata": {
    "colab": {
     "base_uri": "https://localhost:8080/",
     "height": 145,
     "referenced_widgets": [
      "15ada14a248a4dbbb4b156773b4b251f",
      "782e0a931f5b4583bd8229e9fa9ed9b1",
      "47d240d4439f4240b1e2f7420b265e0e",
      "b50dd1ce44384167998b33690225772f",
      "436ecdebe2a0422a86fee268f32ff106",
      "9cb3776178bb4fdc8abc04b817d0f3ea",
      "58287c9b4ea042888b3416843a8abc0c",
      "e242e78bbd0e45cdbd9c6d29d70bcb59",
      "dc6a0acf6b1746a4891c8e74a34903e9",
      "98447e3d573a4c10b410f8d2b64d38b5",
      "a9eb02fade2f4ba38393b81b0f4f053e",
      "6c7b301afd67419c8cc42e888844f49c",
      "4927fcd7bfb6445c87822b66b89b1406",
      "494075929d544aac8539d7c1a175db61",
      "6ca2938b07ce44e9bc42f38a16629195",
      "f1a7a698c9a9400ca9c92943cc363222",
      "5ff8b6b20cb24c928893289d2e928380",
      "90e5e975d6f24db59fcab3d8cc74be48",
      "3ebe458c67454c3aadbcced4e7f3bd3a",
      "6a5bec06d0774873aad6aa69acf8e332",
      "eb22eda96e084d8995e4f3fe05356df0",
      "914d7a883516496581d8efbc3ca10cde",
      "a6c0cd1a567549c6b7b4dda1f59233af",
      "4f6350b3b1ee4b26b5b1020d151818bc",
      "5f13173fbeff47b58372597e062e009e",
      "f38c24da776f452fb323e317d57242d0",
      "afc60da4d5654cd1a5f38a4274f4a8df",
      "25cc603fbda34a5397a8bd9e3d124a03",
      "29e464c13a824c2c87c4bf93a234ca5c",
      "db1d8b8a5b7140458456f30db5fecc89",
      "1d79efab6b2647709f46e72f35d5850b",
      "3b60488927dc415ab4a1d8ef6ff83be4",
      "178b434494f442d98dda90d9db60c13f",
      "552939affedb4807b3a653214bca87e3",
      "2333a18d942240378d1a81b0123bd624",
      "94b156a99f7c47faafe5a95bd5e915c0",
      "1c35c0a35a39496f8ca08b0b5e2efb95",
      "0ef6723468bb44969772a11288226d97",
      "769970b2834f47b0bd313b4cd865f6a0",
      "da1ce052204246a387859140ac306544",
      "8ac268b28d33438cb964e86556cb3686",
      "a0b764acfe304d279baa9981977fb1f9",
      "9043bb138906497b98ed7e0733c5943f",
      "944d9e18f70a4116a70bab705437cee6"
     ]
    },
    "executionInfo": {
     "elapsed": 3029,
     "status": "ok",
     "timestamp": 1652686944182,
     "user": {
      "displayName": "Federico Panero",
      "userId": "04702959575507447736"
     },
     "user_tz": -120
    },
    "id": "6e361993",
    "outputId": "7887b83a-dbb5-49d9-8f1b-e887ca8f021f"
   },
   "outputs": [
    {
     "data": {
      "application/vnd.jupyter.widget-view+json": {
       "model_id": "15ada14a248a4dbbb4b156773b4b251f",
       "version_major": 2,
       "version_minor": 0
      },
      "text/plain": [
       "Downloading:   0%|          | 0.00/768 [00:00<?, ?B/s]"
      ]
     },
     "metadata": {},
     "output_type": "display_data"
    },
    {
     "data": {
      "application/vnd.jupyter.widget-view+json": {
       "model_id": "6c7b301afd67419c8cc42e888844f49c",
       "version_major": 2,
       "version_minor": 0
      },
      "text/plain": [
       "Downloading:   0%|          | 0.00/878k [00:00<?, ?B/s]"
      ]
     },
     "metadata": {},
     "output_type": "display_data"
    },
    {
     "data": {
      "application/vnd.jupyter.widget-view+json": {
       "model_id": "a6c0cd1a567549c6b7b4dda1f59233af",
       "version_major": 2,
       "version_minor": 0
      },
      "text/plain": [
       "Downloading:   0%|          | 0.00/446k [00:00<?, ?B/s]"
      ]
     },
     "metadata": {},
     "output_type": "display_data"
    },
    {
     "data": {
      "application/vnd.jupyter.widget-view+json": {
       "model_id": "552939affedb4807b3a653214bca87e3",
       "version_major": 2,
       "version_minor": 0
      },
      "text/plain": [
       "Downloading:   0%|          | 0.00/150 [00:00<?, ?B/s]"
      ]
     },
     "metadata": {},
     "output_type": "display_data"
    }
   ],
   "source": [
    "model_name = \"cardiffnlp/twitter-roberta-base-emotion\" #\"cardiffnlp/twitter-roberta-base-emotion\" \"google/electra-large-discriminator\"\n",
    "tokenizer = AutoTokenizer.from_pretrained(model_name)\n",
    "\n",
    "def preproc(data, maximum_length) :\n",
    "    input_ids = []\n",
    "    attention_masks = []\n",
    "\n",
    "    for text in data:\n",
    "        encoded = tokenizer.encode_plus(\n",
    "            text, \n",
    "            add_special_tokens=True,\n",
    "            max_length=maximum_length,\n",
    "            pad_to_max_length=True,\n",
    "            padding = 'max_length',\n",
    "            return_attention_mask=True,\n",
    "        )\n",
    "        input_ids.append(encoded['input_ids'])\n",
    "        attention_masks.append(encoded['attention_mask'])\n",
    "        \n",
    "    return np.array(input_ids),np.array(attention_masks)\n",
    "\n",
    "nwords = 20\n",
    "train_input_ids, train_attention_masks = preproc(X_train,nwords)\n",
    "dev_input_ids, dev_attention_masks = preproc(X_dev,nwords)\n",
    "test_input_ids, test_attention_masks = preproc(X_test,nwords)\n",
    "\n",
    "input_ids = tf.keras.layers.Input(shape=(nwords,), name='input_ids', dtype='int32')\n",
    "mask = tf.keras.layers.Input(shape=(nwords,), name='attention_mask', dtype='int32')"
   ]
  },
  {
   "cell_type": "code",
   "execution_count": 20,
   "id": "_bw_QwFDz9js",
   "metadata": {
    "colab": {
     "base_uri": "https://localhost:8080/",
     "height": 736
    },
    "executionInfo": {
     "elapsed": 497722,
     "status": "ok",
     "timestamp": 1652690416186,
     "user": {
      "displayName": "Federico Panero",
      "userId": "04702959575507447736"
     },
     "user_tz": -120
    },
    "id": "_bw_QwFDz9js",
    "outputId": "88ba8ba5-ec0b-41cc-f6ff-4ad09ed3062d"
   },
   "outputs": [
    {
     "metadata": {
      "tags": null
     },
     "name": "stderr",
     "output_type": "stream",
     "text": [
      "All model checkpoint layers were used when initializing TFRobertaForSequenceClassification.\n",
      "\n",
      "All the layers of TFRobertaForSequenceClassification were initialized from the model checkpoint at cardiffnlp/twitter-roberta-base-emotion.\n",
      "If your task is similar to the task the model of the checkpoint was trained on, you can already use TFRobertaForSequenceClassification for predictions without further training.\n",
      "No loss specified in compile() - the model's internal loss computation will be used as the loss. Don't panic - this is a common way to train TensorFlow models in Transformers! To disable this behaviour, please pass a loss argument, or explicitly pass `loss=None` if you do not want your model to compute a loss.\n"
     ]
    },
    {
     "name": "stdout",
     "output_type": "stream",
     "text": [
      "Epoch 1/7\n",
      "47/47 [==============================] - 119s 2s/step - loss: 1.3660 - val_loss: 1.3013 - lr: 1.0000e-04\n",
      "Epoch 2/7\n",
      "47/47 [==============================] - 86s 2s/step - loss: 1.3064 - val_loss: 1.2460 - lr: 1.0000e-04\n",
      "Epoch 3/7\n",
      "47/47 [==============================] - 86s 2s/step - loss: 1.2262 - val_loss: 1.2899 - lr: 1.0000e-04\n",
      "Epoch 4/7\n",
      "47/47 [==============================] - 86s 2s/step - loss: 1.0731 - val_loss: 1.4934 - lr: 9.0484e-05\n",
      "Epoch 5/7\n",
      "47/47 [==============================] - 93s 2s/step - loss: 0.8481 - val_loss: 1.5705 - lr: 8.1873e-05\n",
      "Epoch 6/7\n",
      "47/47 [==============================] - 85s 2s/step - loss: 0.5223 - val_loss: 1.5385 - lr: 7.4082e-05\n",
      "Epoch 7/7\n",
      "47/47 [==============================] - 86s 2s/step - loss: 0.3524 - val_loss: 1.8161 - lr: 6.7032e-05\n"
     ]
    },
    {
     "data": {
      "image/png": "[encoded data removed]",
      "text/plain": [
       "<Figure size 432x288 with 1 Axes>"
      ]
     },
     "metadata": {
      "needs_background": "light"
     },
     "output_type": "display_data"
    },
    {
     "name": "stdout",
     "output_type": "stream",
     "text": [
      "WARNING:tensorflow:5 out of the last 9 calls to <function Model.make_predict_function.<locals>.predict_function at 0x7fe8672425f0> triggered tf.function retracing. Tracing is expensive and the excessive number of tracings could be due to (1) creating @tf.function repeatedly in a loop, (2) passing tensors with different shapes, (3) passing Python objects instead of tensors. For (1), please define your @tf.function outside of the loop. For (2), @tf.function has experimental_relax_shapes=True option that relaxes argument shapes that can avoid unnecessary retracing. For (3), please refer to https://www.tensorflow.org/guide/function#controlling_retracing and https://www.tensorflow.org/api_docs/python/tf/function for  more details.\n",
      "cardiffnlp/twitter-roberta-base-emotion 0.0001 4 7\n",
      "[3 1 1 2 1 1 2 2 1 1 1 1 1 1 1 1 3 1 1 1 1 1 1 1 2 1 1 1 1 1 1 2 2 1 1 1 1\n",
      " 1 1 1 1 1 3 1 2 3 1 1 2 1 1 2 1 0 1 3 2 2 2 1 0 1]\n",
      "Precision:  0.4332333083270818\n",
      "Recall:  0.4838709677419355\n",
      "F1: 0.44645161290322577\n"
     ]
    }
   ],
   "source": [
    "lrate = 0.0001 \n",
    "nepochs = 7 \n",
    "batchsize = 4\n",
    "\n",
    "def scheduler(epoch, lr):\n",
    "          if epoch < nepochs //2:\n",
    "              return lr\n",
    "          else:\n",
    "              return lr * tf.math.exp(-0.1)\n",
    "\n",
    "tokenizer = AutoTokenizer.from_pretrained(model_name)\n",
    "\n",
    "train_input_ids, train_attention_masks = preproc(X_train,nwords)\n",
    "dev_input_ids, dev_attention_masks = preproc(X_dev,nwords)\n",
    "test_input_ids, test_attention_masks = preproc(X_test,nwords)\n",
    "\n",
    "input_ids = tf.keras.layers.Input(shape=(nwords,), name='input_ids', dtype='int32')\n",
    "mask = tf.keras.layers.Input(shape=(nwords,), name='attention_mask', dtype='int32')\n",
    "\n",
    "model = TFAutoModelForSequenceClassification.from_pretrained(model_name, num_labels=4)\n",
    "\n",
    "model.compile(Adam(learning_rate=lrate))\n",
    "\n",
    "callbacks = [tf.keras.callbacks.LearningRateScheduler(scheduler)] \n",
    "#              tf.keras.callbacks.EarlyStopping(monitor=\"val_loss\", min_delta=0,  patience=5, restore_best_weights=True)]\n",
    "\n",
    "history = model.fit(x = {\"input_ids\": train_input_ids, \"attention_mask\": train_attention_masks},\n",
    "          y = y_train, \n",
    "          epochs = nepochs, \n",
    "          batch_size = batchsize, callbacks = callbacks,\n",
    "        validation_data = [{\"input_ids\": dev_input_ids, \"attention_mask\": dev_attention_masks}, y_dev])\n",
    "\n",
    "metrics = pd.DataFrame(history.history)\n",
    "\n",
    "metrics[['loss','val_loss']].plot()\n",
    "plt.show()\n",
    "\n",
    "y_preds = model.predict(\n",
    "        {\"input_ids\": test_input_ids, \"attention_mask\": test_attention_masks}\n",
    "    )\n",
    "y_pred = y_preds['logits'].argmax(axis=-1)\n",
    "\n",
    "precision = precision_score(y_test, y_pred, average='weighted')\n",
    "recall = recall_score(y_test, y_pred, average='weighted')\n",
    "f1 = f1_score(y_test, y_pred, average='weighted')\n",
    "print(model_name, lrate, batchsize, nepochs)\n",
    "print(y_pred)\n",
    "print('Precision: ', precision)\n",
    "print('Recall: ', recall)\n",
    "print('F1:', f1)"
   ]
  },
  {
   "cell_type": "code",
   "execution_count": 28,
   "id": "EubpGReTCoGy",
   "metadata": {
    "executionInfo": {
     "elapsed": 245,
     "status": "ok",
     "timestamp": 1652691002346,
     "user": {
      "displayName": "Federico Panero",
      "userId": "04702959575507447736"
     },
     "user_tz": -120
    },
    "id": "EubpGReTCoGy"
   },
   "outputs": [],
   "source": [
    "#Save results\n",
    "pd.DataFrame({'topic_id' : y_test.index, 'y_pred' : y_pred}).to_csv('res1.tsv',header = False, index = False, sep = '\\t')"
   ]
  }
 ],
 "metadata": {
  "colab": {
   "name": "Copia di clariq_RQ1.ipynb",
   "provenance": [
    {
     "file_id": "1HG2rjaNwAXm0gC_WZXhoxU2uBPHPraqO",
     "timestamp": 1652691569995
    }
   ]
  },
  "kernelspec": {
   "display_name": "Python 3 (ipykernel)",
   "language": "python",
   "name": "python3"
  },
  "language_info": {
   "codemirror_mode": {
    "name": "ipython",
    "version": 3
   },
   "file_extension": ".py",
   "mimetype": "text/x-python",
   "name": "python",
   "nbconvert_exporter": "python",
   "pygments_lexer": "ipython3",
   "version": "3.9.7"
  },
  "varInspector": {
   "cols": {
    "lenName": 16,
    "lenType": 16,
    "lenVar": 40
   },
   "kernels_config": {
    "python": {
     "delete_cmd_postfix": "",
     "delete_cmd_prefix": "del ",
     "library": "var_list.py",
     "varRefreshCmd": "print(var_dic_list())"
    },
    "r": {
     "delete_cmd_postfix": ") ",
     "delete_cmd_prefix": "rm(",
     "library": "var_list.r",
     "varRefreshCmd": "cat(var_dic_list()) "
    }
   },
   "types_to_exclude": [
    "module",
    "function",
    "builtin_function_or_method",
    "instance",
    "_Feature"
   ],
   "window_display": false
  },
  "widgets": {
   "application/vnd.jupyter.widget-state+json": {
    "0ef6723468bb44969772a11288226d97": {
     "model_module": "@jupyter-widgets/base",
     "model_module_version": "1.2.0",
     "model_name": "LayoutModel",
     "state": {
      "_model_module": "@jupyter-widgets/base",
      "_model_module_version": "1.2.0",
      "_model_name": "LayoutModel",
      "_view_count": null,
      "_view_module": "@jupyter-widgets/base",
      "_view_module_version": "1.2.0",
      "_view_name": "LayoutView",
      "align_content": null,
      "align_items": null,
      "align_self": null,
      "border": null,
      "bottom": null,
      "display": null,
      "flex": null,
      "flex_flow": null,
      "grid_area": null,
      "grid_auto_columns": null,
      "grid_auto_flow": null,
      "grid_auto_rows": null,
      "grid_column": null,
      "grid_gap": null,
      "grid_row": null,
      "grid_template_areas": null,
      "grid_template_columns": null,
      "grid_template_rows": null,
      "height": null,
      "justify_content": null,
      "justify_items": null,
      "left": null,
      "margin": null,
      "max_height": null,
      "max_width": null,
      "min_height": null,
      "min_width": null,
      "object_fit": null,
      "object_position": null,
      "order": null,
      "overflow": null,
      "overflow_x": null,
      "overflow_y": null,
      "padding": null,
      "right": null,
      "top": null,
      "visibility": null,
      "width": null
     }
    },
    "15ada14a248a4dbbb4b156773b4b251f": {
     "model_module": "@jupyter-widgets/controls",
     "model_module_version": "1.5.0",
     "model_name": "HBoxModel",
     "state": {
      "_dom_classes": [],
      "_model_module": "@jupyter-widgets/controls",
      "_model_module_version": "1.5.0",
      "_model_name": "HBoxModel",
      "_view_count": null,
      "_view_module": "@jupyter-widgets/controls",
      "_view_module_version": "1.5.0",
      "_view_name": "HBoxView",
      "box_style": "",
      "children": [
       "IPY_MODEL_782e0a931f5b4583bd8229e9fa9ed9b1",
       "IPY_MODEL_47d240d4439f4240b1e2f7420b265e0e",
       "IPY_MODEL_b50dd1ce44384167998b33690225772f"
      ],
      "layout": "IPY_MODEL_436ecdebe2a0422a86fee268f32ff106"
     }
    },
    "178b434494f442d98dda90d9db60c13f": {
     "model_module": "@jupyter-widgets/controls",
     "model_module_version": "1.5.0",
     "model_name": "DescriptionStyleModel",
     "state": {
      "_model_module": "@jupyter-widgets/controls",
      "_model_module_version": "1.5.0",
      "_model_name": "DescriptionStyleModel",
      "_view_count": null,
      "_view_module": "@jupyter-widgets/base",
      "_view_module_version": "1.2.0",
      "_view_name": "StyleView",
      "description_width": ""
     }
    },
    "1c35c0a35a39496f8ca08b0b5e2efb95": {
     "model_module": "@jupyter-widgets/controls",
     "model_module_version": "1.5.0",
     "model_name": "HTMLModel",
     "state": {
      "_dom_classes": [],
      "_model_module": "@jupyter-widgets/controls",
      "_model_module_version": "1.5.0",
      "_model_name": "HTMLModel",
      "_view_count": null,
      "_view_module": "@jupyter-widgets/controls",
      "_view_module_version": "1.5.0",
      "_view_name": "HTMLView",
      "description": "",
      "description_tooltip": null,
      "layout": "IPY_MODEL_9043bb138906497b98ed7e0733c5943f",
      "placeholder": "​",
      "style": "IPY_MODEL_944d9e18f70a4116a70bab705437cee6",
      "value": " 150/150 [00:00&lt;00:00, 1.08kB/s]"
     }
    },
    "1d79efab6b2647709f46e72f35d5850b": {
     "model_module": "@jupyter-widgets/controls",
     "model_module_version": "1.5.0",
     "model_name": "ProgressStyleModel",
     "state": {
      "_model_module": "@jupyter-widgets/controls",
      "_model_module_version": "1.5.0",
      "_model_name": "ProgressStyleModel",
      "_view_count": null,
      "_view_module": "@jupyter-widgets/base",
      "_view_module_version": "1.2.0",
      "_view_name": "StyleView",
      "bar_color": null,
      "description_width": ""
     }
    },
    "2333a18d942240378d1a81b0123bd624": {
     "model_module": "@jupyter-widgets/controls",
     "model_module_version": "1.5.0",
     "model_name": "HTMLModel",
     "state": {
      "_dom_classes": [],
      "_model_module": "@jupyter-widgets/controls",
      "_model_module_version": "1.5.0",
      "_model_name": "HTMLModel",
      "_view_count": null,
      "_view_module": "@jupyter-widgets/controls",
      "_view_module_version": "1.5.0",
      "_view_name": "HTMLView",
      "description": "",
      "description_tooltip": null,
      "layout": "IPY_MODEL_769970b2834f47b0bd313b4cd865f6a0",
      "placeholder": "​",
      "style": "IPY_MODEL_da1ce052204246a387859140ac306544",
      "value": "Downloading: 100%"
     }
    },
    "25cc603fbda34a5397a8bd9e3d124a03": {
     "model_module": "@jupyter-widgets/base",
     "model_module_version": "1.2.0",
     "model_name": "LayoutModel",
     "state": {
      "_model_module": "@jupyter-widgets/base",
      "_model_module_version": "1.2.0",
      "_model_name": "LayoutModel",
      "_view_count": null,
      "_view_module": "@jupyter-widgets/base",
      "_view_module_version": "1.2.0",
      "_view_name": "LayoutView",
      "align_content": null,
      "align_items": null,
      "align_self": null,
      "border": null,
      "bottom": null,
      "display": null,
      "flex": null,
      "flex_flow": null,
      "grid_area": null,
      "grid_auto_columns": null,
      "grid_auto_flow": null,
      "grid_auto_rows": null,
      "grid_column": null,
      "grid_gap": null,
      "grid_row": null,
      "grid_template_areas": null,
      "grid_template_columns": null,
      "grid_template_rows": null,
      "height": null,
      "justify_content": null,
      "justify_items": null,
      "left": null,
      "margin": null,
      "max_height": null,
      "max_width": null,
      "min_height": null,
      "min_width": null,
      "object_fit": null,
      "object_position": null,
      "order": null,
      "overflow": null,
      "overflow_x": null,
      "overflow_y": null,
      "padding": null,
      "right": null,
      "top": null,
      "visibility": null,
      "width": null
     }
    },
    "29e464c13a824c2c87c4bf93a234ca5c": {
     "model_module": "@jupyter-widgets/controls",
     "model_module_version": "1.5.0",
     "model_name": "DescriptionStyleModel",
     "state": {
      "_model_module": "@jupyter-widgets/controls",
      "_model_module_version": "1.5.0",
      "_model_name": "DescriptionStyleModel",
      "_view_count": null,
      "_view_module": "@jupyter-widgets/base",
      "_view_module_version": "1.2.0",
      "_view_name": "StyleView",
      "description_width": ""
     }
    },
    "3b60488927dc415ab4a1d8ef6ff83be4": {
     "model_module": "@jupyter-widgets/base",
     "model_module_version": "1.2.0",
     "model_name": "LayoutModel",
     "state": {
      "_model_module": "@jupyter-widgets/base",
      "_model_module_version": "1.2.0",
      "_model_name": "LayoutModel",
      "_view_count": null,
      "_view_module": "@jupyter-widgets/base",
      "_view_module_version": "1.2.0",
      "_view_name": "LayoutView",
      "align_content": null,
      "align_items": null,
      "align_self": null,
      "border": null,
      "bottom": null,
      "display": null,
      "flex": null,
      "flex_flow": null,
      "grid_area": null,
      "grid_auto_columns": null,
      "grid_auto_flow": null,
      "grid_auto_rows": null,
      "grid_column": null,
      "grid_gap": null,
      "grid_row": null,
      "grid_template_areas": null,
      "grid_template_columns": null,
      "grid_template_rows": null,
      "height": null,
      "justify_content": null,
      "justify_items": null,
      "left": null,
      "margin": null,
      "max_height": null,
      "max_width": null,
      "min_height": null,
      "min_width": null,
      "object_fit": null,
      "object_position": null,
      "order": null,
      "overflow": null,
      "overflow_x": null,
      "overflow_y": null,
      "padding": null,
      "right": null,
      "top": null,
      "visibility": null,
      "width": null
     }
    },
    "3ebe458c67454c3aadbcced4e7f3bd3a": {
     "model_module": "@jupyter-widgets/base",
     "model_module_version": "1.2.0",
     "model_name": "LayoutModel",
     "state": {
      "_model_module": "@jupyter-widgets/base",
      "_model_module_version": "1.2.0",
      "_model_name": "LayoutModel",
      "_view_count": null,
      "_view_module": "@jupyter-widgets/base",
      "_view_module_version": "1.2.0",
      "_view_name": "LayoutView",
      "align_content": null,
      "align_items": null,
      "align_self": null,
      "border": null,
      "bottom": null,
      "display": null,
      "flex": null,
      "flex_flow": null,
      "grid_area": null,
      "grid_auto_columns": null,
      "grid_auto_flow": null,
      "grid_auto_rows": null,
      "grid_column": null,
      "grid_gap": null,
      "grid_row": null,
      "grid_template_areas": null,
      "grid_template_columns": null,
      "grid_template_rows": null,
      "height": null,
      "justify_content": null,
      "justify_items": null,
      "left": null,
      "margin": null,
      "max_height": null,
      "max_width": null,
      "min_height": null,
      "min_width": null,
      "object_fit": null,
      "object_position": null,
      "order": null,
      "overflow": null,
      "overflow_x": null,
      "overflow_y": null,
      "padding": null,
      "right": null,
      "top": null,
      "visibility": null,
      "width": null
     }
    },
    "436ecdebe2a0422a86fee268f32ff106": {
     "model_module": "@jupyter-widgets/base",
     "model_module_version": "1.2.0",
     "model_name": "LayoutModel",
     "state": {
      "_model_module": "@jupyter-widgets/base",
      "_model_module_version": "1.2.0",
      "_model_name": "LayoutModel",
      "_view_count": null,
      "_view_module": "@jupyter-widgets/base",
      "_view_module_version": "1.2.0",
      "_view_name": "LayoutView",
      "align_content": null,
      "align_items": null,
      "align_self": null,
      "border": null,
      "bottom": null,
      "display": null,
      "flex": null,
      "flex_flow": null,
      "grid_area": null,
      "grid_auto_columns": null,
      "grid_auto_flow": null,
      "grid_auto_rows": null,
      "grid_column": null,
      "grid_gap": null,
      "grid_row": null,
      "grid_template_areas": null,
      "grid_template_columns": null,
      "grid_template_rows": null,
      "height": null,
      "justify_content": null,
      "justify_items": null,
      "left": null,
      "margin": null,
      "max_height": null,
      "max_width": null,
      "min_height": null,
      "min_width": null,
      "object_fit": null,
      "object_position": null,
      "order": null,
      "overflow": null,
      "overflow_x": null,
      "overflow_y": null,
      "padding": null,
      "right": null,
      "top": null,
      "visibility": null,
      "width": null
     }
    },
    "47d240d4439f4240b1e2f7420b265e0e": {
     "model_module": "@jupyter-widgets/controls",
     "model_module_version": "1.5.0",
     "model_name": "FloatProgressModel",
     "state": {
      "_dom_classes": [],
      "_model_module": "@jupyter-widgets/controls",
      "_model_module_version": "1.5.0",
      "_model_name": "FloatProgressModel",
      "_view_count": null,
      "_view_module": "@jupyter-widgets/controls",
      "_view_module_version": "1.5.0",
      "_view_name": "ProgressView",
      "bar_style": "success",
      "description": "",
      "description_tooltip": null,
      "layout": "IPY_MODEL_e242e78bbd0e45cdbd9c6d29d70bcb59",
      "max": 768,
      "min": 0,
      "orientation": "horizontal",
      "style": "IPY_MODEL_dc6a0acf6b1746a4891c8e74a34903e9",
      "value": 768
     }
    },
    "4927fcd7bfb6445c87822b66b89b1406": {
     "model_module": "@jupyter-widgets/controls",
     "model_module_version": "1.5.0",
     "model_name": "HTMLModel",
     "state": {
      "_dom_classes": [],
      "_model_module": "@jupyter-widgets/controls",
      "_model_module_version": "1.5.0",
      "_model_name": "HTMLModel",
      "_view_count": null,
      "_view_module": "@jupyter-widgets/controls",
      "_view_module_version": "1.5.0",
      "_view_name": "HTMLView",
      "description": "",
      "description_tooltip": null,
      "layout": "IPY_MODEL_5ff8b6b20cb24c928893289d2e928380",
      "placeholder": "​",
      "style": "IPY_MODEL_90e5e975d6f24db59fcab3d8cc74be48",
      "value": "Downloading: 100%"
     }
    },
    "494075929d544aac8539d7c1a175db61": {
     "model_module": "@jupyter-widgets/controls",
     "model_module_version": "1.5.0",
     "model_name": "FloatProgressModel",
     "state": {
      "_dom_classes": [],
      "_model_module": "@jupyter-widgets/controls",
      "_model_module_version": "1.5.0",
      "_model_name": "FloatProgressModel",
      "_view_count": null,
      "_view_module": "@jupyter-widgets/controls",
      "_view_module_version": "1.5.0",
      "_view_name": "ProgressView",
      "bar_style": "success",
      "description": "",
      "description_tooltip": null,
      "layout": "IPY_MODEL_3ebe458c67454c3aadbcced4e7f3bd3a",
      "max": 898822,
      "min": 0,
      "orientation": "horizontal",
      "style": "IPY_MODEL_6a5bec06d0774873aad6aa69acf8e332",
      "value": 898822
     }
    },
    "4f6350b3b1ee4b26b5b1020d151818bc": {
     "model_module": "@jupyter-widgets/controls",
     "model_module_version": "1.5.0",
     "model_name": "HTMLModel",
     "state": {
      "_dom_classes": [],
      "_model_module": "@jupyter-widgets/controls",
      "_model_module_version": "1.5.0",
      "_model_name": "HTMLModel",
      "_view_count": null,
      "_view_module": "@jupyter-widgets/controls",
      "_view_module_version": "1.5.0",
      "_view_name": "HTMLView",
      "description": "",
      "description_tooltip": null,
      "layout": "IPY_MODEL_25cc603fbda34a5397a8bd9e3d124a03",
      "placeholder": "​",
      "style": "IPY_MODEL_29e464c13a824c2c87c4bf93a234ca5c",
      "value": "Downloading: 100%"
     }
    },
    "552939affedb4807b3a653214bca87e3": {
     "model_module": "@jupyter-widgets/controls",
     "model_module_version": "1.5.0",
     "model_name": "HBoxModel",
     "state": {
      "_dom_classes": [],
      "_model_module": "@jupyter-widgets/controls",
      "_model_module_version": "1.5.0",
      "_model_name": "HBoxModel",
      "_view_count": null,
      "_view_module": "@jupyter-widgets/controls",
      "_view_module_version": "1.5.0",
      "_view_name": "HBoxView",
      "box_style": "",
      "children": [
       "IPY_MODEL_2333a18d942240378d1a81b0123bd624",
       "IPY_MODEL_94b156a99f7c47faafe5a95bd5e915c0",
       "IPY_MODEL_1c35c0a35a39496f8ca08b0b5e2efb95"
      ],
      "layout": "IPY_MODEL_0ef6723468bb44969772a11288226d97"
     }
    },
    "58287c9b4ea042888b3416843a8abc0c": {
     "model_module": "@jupyter-widgets/controls",
     "model_module_version": "1.5.0",
     "model_name": "DescriptionStyleModel",
     "state": {
      "_model_module": "@jupyter-widgets/controls",
      "_model_module_version": "1.5.0",
      "_model_name": "DescriptionStyleModel",
      "_view_count": null,
      "_view_module": "@jupyter-widgets/base",
      "_view_module_version": "1.2.0",
      "_view_name": "StyleView",
      "description_width": ""
     }
    },
    "5f13173fbeff47b58372597e062e009e": {
     "model_module": "@jupyter-widgets/controls",
     "model_module_version": "1.5.0",
     "model_name": "FloatProgressModel",
     "state": {
      "_dom_classes": [],
      "_model_module": "@jupyter-widgets/controls",
      "_model_module_version": "1.5.0",
      "_model_name": "FloatProgressModel",
      "_view_count": null,
      "_view_module": "@jupyter-widgets/controls",
      "_view_module_version": "1.5.0",
      "_view_name": "ProgressView",
      "bar_style": "success",
      "description": "",
      "description_tooltip": null,
      "layout": "IPY_MODEL_db1d8b8a5b7140458456f30db5fecc89",
      "max": 456318,
      "min": 0,
      "orientation": "horizontal",
      "style": "IPY_MODEL_1d79efab6b2647709f46e72f35d5850b",
      "value": 456318
     }
    },
    "5ff8b6b20cb24c928893289d2e928380": {
     "model_module": "@jupyter-widgets/base",
     "model_module_version": "1.2.0",
     "model_name": "LayoutModel",
     "state": {
      "_model_module": "@jupyter-widgets/base",
      "_model_module_version": "1.2.0",
      "_model_name": "LayoutModel",
      "_view_count": null,
      "_view_module": "@jupyter-widgets/base",
      "_view_module_version": "1.2.0",
      "_view_name": "LayoutView",
      "align_content": null,
      "align_items": null,
      "align_self": null,
      "border": null,
      "bottom": null,
      "display": null,
      "flex": null,
      "flex_flow": null,
      "grid_area": null,
      "grid_auto_columns": null,
      "grid_auto_flow": null,
      "grid_auto_rows": null,
      "grid_column": null,
      "grid_gap": null,
      "grid_row": null,
      "grid_template_areas": null,
      "grid_template_columns": null,
      "grid_template_rows": null,
      "height": null,
      "justify_content": null,
      "justify_items": null,
      "left": null,
      "margin": null,
      "max_height": null,
      "max_width": null,
      "min_height": null,
      "min_width": null,
      "object_fit": null,
      "object_position": null,
      "order": null,
      "overflow": null,
      "overflow_x": null,
      "overflow_y": null,
      "padding": null,
      "right": null,
      "top": null,
      "visibility": null,
      "width": null
     }
    },
    "6a5bec06d0774873aad6aa69acf8e332": {
     "model_module": "@jupyter-widgets/controls",
     "model_module_version": "1.5.0",
     "model_name": "ProgressStyleModel",
     "state": {
      "_model_module": "@jupyter-widgets/controls",
      "_model_module_version": "1.5.0",
      "_model_name": "ProgressStyleModel",
      "_view_count": null,
      "_view_module": "@jupyter-widgets/base",
      "_view_module_version": "1.2.0",
      "_view_name": "StyleView",
      "bar_color": null,
      "description_width": ""
     }
    },
    "6c7b301afd67419c8cc42e888844f49c": {
     "model_module": "@jupyter-widgets/controls",
     "model_module_version": "1.5.0",
     "model_name": "HBoxModel",
     "state": {
      "_dom_classes": [],
      "_model_module": "@jupyter-widgets/controls",
      "_model_module_version": "1.5.0",
      "_model_name": "HBoxModel",
      "_view_count": null,
      "_view_module": "@jupyter-widgets/controls",
      "_view_module_version": "1.5.0",
      "_view_name": "HBoxView",
      "box_style": "",
      "children": [
       "IPY_MODEL_4927fcd7bfb6445c87822b66b89b1406",
       "IPY_MODEL_494075929d544aac8539d7c1a175db61",
       "IPY_MODEL_6ca2938b07ce44e9bc42f38a16629195"
      ],
      "layout": "IPY_MODEL_f1a7a698c9a9400ca9c92943cc363222"
     }
    },
    "6ca2938b07ce44e9bc42f38a16629195": {
     "model_module": "@jupyter-widgets/controls",
     "model_module_version": "1.5.0",
     "model_name": "HTMLModel",
     "state": {
      "_dom_classes": [],
      "_model_module": "@jupyter-widgets/controls",
      "_model_module_version": "1.5.0",
      "_model_name": "HTMLModel",
      "_view_count": null,
      "_view_module": "@jupyter-widgets/controls",
      "_view_module_version": "1.5.0",
      "_view_name": "HTMLView",
      "description": "",
      "description_tooltip": null,
      "layout": "IPY_MODEL_eb22eda96e084d8995e4f3fe05356df0",
      "placeholder": "​",
      "style": "IPY_MODEL_914d7a883516496581d8efbc3ca10cde",
      "value": " 878k/878k [00:00&lt;00:00, 3.42MB/s]"
     }
    },
    "769970b2834f47b0bd313b4cd865f6a0": {
     "model_module": "@jupyter-widgets/base",
     "model_module_version": "1.2.0",
     "model_name": "LayoutModel",
     "state": {
      "_model_module": "@jupyter-widgets/base",
      "_model_module_version": "1.2.0",
      "_model_name": "LayoutModel",
      "_view_count": null,
      "_view_module": "@jupyter-widgets/base",
      "_view_module_version": "1.2.0",
      "_view_name": "LayoutView",
      "align_content": null,
      "align_items": null,
      "align_self": null,
      "border": null,
      "bottom": null,
      "display": null,
      "flex": null,
      "flex_flow": null,
      "grid_area": null,
      "grid_auto_columns": null,
      "grid_auto_flow": null,
      "grid_auto_rows": null,
      "grid_column": null,
      "grid_gap": null,
      "grid_row": null,
      "grid_template_areas": null,
      "grid_template_columns": null,
      "grid_template_rows": null,
      "height": null,
      "justify_content": null,
      "justify_items": null,
      "left": null,
      "margin": null,
      "max_height": null,
      "max_width": null,
      "min_height": null,
      "min_width": null,
      "object_fit": null,
      "object_position": null,
      "order": null,
      "overflow": null,
      "overflow_x": null,
      "overflow_y": null,
      "padding": null,
      "right": null,
      "top": null,
      "visibility": null,
      "width": null
     }
    },
    "782e0a931f5b4583bd8229e9fa9ed9b1": {
     "model_module": "@jupyter-widgets/controls",
     "model_module_version": "1.5.0",
     "model_name": "HTMLModel",
     "state": {
      "_dom_classes": [],
      "_model_module": "@jupyter-widgets/controls",
      "_model_module_version": "1.5.0",
      "_model_name": "HTMLModel",
      "_view_count": null,
      "_view_module": "@jupyter-widgets/controls",
      "_view_module_version": "1.5.0",
      "_view_name": "HTMLView",
      "description": "",
      "description_tooltip": null,
      "layout": "IPY_MODEL_9cb3776178bb4fdc8abc04b817d0f3ea",
      "placeholder": "​",
      "style": "IPY_MODEL_58287c9b4ea042888b3416843a8abc0c",
      "value": "Downloading: 100%"
     }
    },
    "8ac268b28d33438cb964e86556cb3686": {
     "model_module": "@jupyter-widgets/base",
     "model_module_version": "1.2.0",
     "model_name": "LayoutModel",
     "state": {
      "_model_module": "@jupyter-widgets/base",
      "_model_module_version": "1.2.0",
      "_model_name": "LayoutModel",
      "_view_count": null,
      "_view_module": "@jupyter-widgets/base",
      "_view_module_version": "1.2.0",
      "_view_name": "LayoutView",
      "align_content": null,
      "align_items": null,
      "align_self": null,
      "border": null,
      "bottom": null,
      "display": null,
      "flex": null,
      "flex_flow": null,
      "grid_area": null,
      "grid_auto_columns": null,
      "grid_auto_flow": null,
      "grid_auto_rows": null,
      "grid_column": null,
      "grid_gap": null,
      "grid_row": null,
      "grid_template_areas": null,
      "grid_template_columns": null,
      "grid_template_rows": null,
      "height": null,
      "justify_content": null,
      "justify_items": null,
      "left": null,
      "margin": null,
      "max_height": null,
      "max_width": null,
      "min_height": null,
      "min_width": null,
      "object_fit": null,
      "object_position": null,
      "order": null,
      "overflow": null,
      "overflow_x": null,
      "overflow_y": null,
      "padding": null,
      "right": null,
      "top": null,
      "visibility": null,
      "width": null
     }
    },
    "9043bb138906497b98ed7e0733c5943f": {
     "model_module": "@jupyter-widgets/base",
     "model_module_version": "1.2.0",
     "model_name": "LayoutModel",
     "state": {
      "_model_module": "@jupyter-widgets/base",
      "_model_module_version": "1.2.0",
      "_model_name": "LayoutModel",
      "_view_count": null,
      "_view_module": "@jupyter-widgets/base",
      "_view_module_version": "1.2.0",
      "_view_name": "LayoutView",
      "align_content": null,
      "align_items": null,
      "align_self": null,
      "border": null,
      "bottom": null,
      "display": null,
      "flex": null,
      "flex_flow": null,
      "grid_area": null,
      "grid_auto_columns": null,
      "grid_auto_flow": null,
      "grid_auto_rows": null,
      "grid_column": null,
      "grid_gap": null,
      "grid_row": null,
      "grid_template_areas": null,
      "grid_template_columns": null,
      "grid_template_rows": null,
      "height": null,
      "justify_content": null,
      "justify_items": null,
      "left": null,
      "margin": null,
      "max_height": null,
      "max_width": null,
      "min_height": null,
      "min_width": null,
      "object_fit": null,
      "object_position": null,
      "order": null,
      "overflow": null,
      "overflow_x": null,
      "overflow_y": null,
      "padding": null,
      "right": null,
      "top": null,
      "visibility": null,
      "width": null
     }
    },
    "90e5e975d6f24db59fcab3d8cc74be48": {
     "model_module": "@jupyter-widgets/controls",
     "model_module_version": "1.5.0",
     "model_name": "DescriptionStyleModel",
     "state": {
      "_model_module": "@jupyter-widgets/controls",
      "_model_module_version": "1.5.0",
      "_model_name": "DescriptionStyleModel",
      "_view_count": null,
      "_view_module": "@jupyter-widgets/base",
      "_view_module_version": "1.2.0",
      "_view_name": "StyleView",
      "description_width": ""
     }
    },
    "914d7a883516496581d8efbc3ca10cde": {
     "model_module": "@jupyter-widgets/controls",
     "model_module_version": "1.5.0",
     "model_name": "DescriptionStyleModel",
     "state": {
      "_model_module": "@jupyter-widgets/controls",
      "_model_module_version": "1.5.0",
      "_model_name": "DescriptionStyleModel",
      "_view_count": null,
      "_view_module": "@jupyter-widgets/base",
      "_view_module_version": "1.2.0",
      "_view_name": "StyleView",
      "description_width": ""
     }
    },
    "944d9e18f70a4116a70bab705437cee6": {
     "model_module": "@jupyter-widgets/controls",
     "model_module_version": "1.5.0",
     "model_name": "DescriptionStyleModel",
     "state": {
      "_model_module": "@jupyter-widgets/controls",
      "_model_module_version": "1.5.0",
      "_model_name": "DescriptionStyleModel",
      "_view_count": null,
      "_view_module": "@jupyter-widgets/base",
      "_view_module_version": "1.2.0",
      "_view_name": "StyleView",
      "description_width": ""
     }
    },
    "94b156a99f7c47faafe5a95bd5e915c0": {
     "model_module": "@jupyter-widgets/controls",
     "model_module_version": "1.5.0",
     "model_name": "FloatProgressModel",
     "state": {
      "_dom_classes": [],
      "_model_module": "@jupyter-widgets/controls",
      "_model_module_version": "1.5.0",
      "_model_name": "FloatProgressModel",
      "_view_count": null,
      "_view_module": "@jupyter-widgets/controls",
      "_view_module_version": "1.5.0",
      "_view_name": "ProgressView",
      "bar_style": "success",
      "description": "",
      "description_tooltip": null,
      "layout": "IPY_MODEL_8ac268b28d33438cb964e86556cb3686",
      "max": 150,
      "min": 0,
      "orientation": "horizontal",
      "style": "IPY_MODEL_a0b764acfe304d279baa9981977fb1f9",
      "value": 150
     }
    },
    "98447e3d573a4c10b410f8d2b64d38b5": {
     "model_module": "@jupyter-widgets/base",
     "model_module_version": "1.2.0",
     "model_name": "LayoutModel",
     "state": {
      "_model_module": "@jupyter-widgets/base",
      "_model_module_version": "1.2.0",
      "_model_name": "LayoutModel",
      "_view_count": null,
      "_view_module": "@jupyter-widgets/base",
      "_view_module_version": "1.2.0",
      "_view_name": "LayoutView",
      "align_content": null,
      "align_items": null,
      "align_self": null,
      "border": null,
      "bottom": null,
      "display": null,
      "flex": null,
      "flex_flow": null,
      "grid_area": null,
      "grid_auto_columns": null,
      "grid_auto_flow": null,
      "grid_auto_rows": null,
      "grid_column": null,
      "grid_gap": null,
      "grid_row": null,
      "grid_template_areas": null,
      "grid_template_columns": null,
      "grid_template_rows": null,
      "height": null,
      "justify_content": null,
      "justify_items": null,
      "left": null,
      "margin": null,
      "max_height": null,
      "max_width": null,
      "min_height": null,
      "min_width": null,
      "object_fit": null,
      "object_position": null,
      "order": null,
      "overflow": null,
      "overflow_x": null,
      "overflow_y": null,
      "padding": null,
      "right": null,
      "top": null,
      "visibility": null,
      "width": null
     }
    },
    "9cb3776178bb4fdc8abc04b817d0f3ea": {
     "model_module": "@jupyter-widgets/base",
     "model_module_version": "1.2.0",
     "model_name": "LayoutModel",
     "state": {
      "_model_module": "@jupyter-widgets/base",
      "_model_module_version": "1.2.0",
      "_model_name": "LayoutModel",
      "_view_count": null,
      "_view_module": "@jupyter-widgets/base",
      "_view_module_version": "1.2.0",
      "_view_name": "LayoutView",
      "align_content": null,
      "align_items": null,
      "align_self": null,
      "border": null,
      "bottom": null,
      "display": null,
      "flex": null,
      "flex_flow": null,
      "grid_area": null,
      "grid_auto_columns": null,
      "grid_auto_flow": null,
      "grid_auto_rows": null,
      "grid_column": null,
      "grid_gap": null,
      "grid_row": null,
      "grid_template_areas": null,
      "grid_template_columns": null,
      "grid_template_rows": null,
      "height": null,
      "justify_content": null,
      "justify_items": null,
      "left": null,
      "margin": null,
      "max_height": null,
      "max_width": null,
      "min_height": null,
      "min_width": null,
      "object_fit": null,
      "object_position": null,
      "order": null,
      "overflow": null,
      "overflow_x": null,
      "overflow_y": null,
      "padding": null,
      "right": null,
      "top": null,
      "visibility": null,
      "width": null
     }
    },
    "a0b764acfe304d279baa9981977fb1f9": {
     "model_module": "@jupyter-widgets/controls",
     "model_module_version": "1.5.0",
     "model_name": "ProgressStyleModel",
     "state": {
      "_model_module": "@jupyter-widgets/controls",
      "_model_module_version": "1.5.0",
      "_model_name": "ProgressStyleModel",
      "_view_count": null,
      "_view_module": "@jupyter-widgets/base",
      "_view_module_version": "1.2.0",
      "_view_name": "StyleView",
      "bar_color": null,
      "description_width": ""
     }
    },
    "a6c0cd1a567549c6b7b4dda1f59233af": {
     "model_module": "@jupyter-widgets/controls",
     "model_module_version": "1.5.0",
     "model_name": "HBoxModel",
     "state": {
      "_dom_classes": [],
      "_model_module": "@jupyter-widgets/controls",
      "_model_module_version": "1.5.0",
      "_model_name": "HBoxModel",
      "_view_count": null,
      "_view_module": "@jupyter-widgets/controls",
      "_view_module_version": "1.5.0",
      "_view_name": "HBoxView",
      "box_style": "",
      "children": [
       "IPY_MODEL_4f6350b3b1ee4b26b5b1020d151818bc",
       "IPY_MODEL_5f13173fbeff47b58372597e062e009e",
       "IPY_MODEL_f38c24da776f452fb323e317d57242d0"
      ],
      "layout": "IPY_MODEL_afc60da4d5654cd1a5f38a4274f4a8df"
     }
    },
    "a9eb02fade2f4ba38393b81b0f4f053e": {
     "model_module": "@jupyter-widgets/controls",
     "model_module_version": "1.5.0",
     "model_name": "DescriptionStyleModel",
     "state": {
      "_model_module": "@jupyter-widgets/controls",
      "_model_module_version": "1.5.0",
      "_model_name": "DescriptionStyleModel",
      "_view_count": null,
      "_view_module": "@jupyter-widgets/base",
      "_view_module_version": "1.2.0",
      "_view_name": "StyleView",
      "description_width": ""
     }
    },
    "afc60da4d5654cd1a5f38a4274f4a8df": {
     "model_module": "@jupyter-widgets/base",
     "model_module_version": "1.2.0",
     "model_name": "LayoutModel",
     "state": {
      "_model_module": "@jupyter-widgets/base",
      "_model_module_version": "1.2.0",
      "_model_name": "LayoutModel",
      "_view_count": null,
      "_view_module": "@jupyter-widgets/base",
      "_view_module_version": "1.2.0",
      "_view_name": "LayoutView",
      "align_content": null,
      "align_items": null,
      "align_self": null,
      "border": null,
      "bottom": null,
      "display": null,
      "flex": null,
      "flex_flow": null,
      "grid_area": null,
      "grid_auto_columns": null,
      "grid_auto_flow": null,
      "grid_auto_rows": null,
      "grid_column": null,
      "grid_gap": null,
      "grid_row": null,
      "grid_template_areas": null,
      "grid_template_columns": null,
      "grid_template_rows": null,
      "height": null,
      "justify_content": null,
      "justify_items": null,
      "left": null,
      "margin": null,
      "max_height": null,
      "max_width": null,
      "min_height": null,
      "min_width": null,
      "object_fit": null,
      "object_position": null,
      "order": null,
      "overflow": null,
      "overflow_x": null,
      "overflow_y": null,
      "padding": null,
      "right": null,
      "top": null,
      "visibility": null,
      "width": null
     }
    },
    "b50dd1ce44384167998b33690225772f": {
     "model_module": "@jupyter-widgets/controls",
     "model_module_version": "1.5.0",
     "model_name": "HTMLModel",
     "state": {
      "_dom_classes": [],
      "_model_module": "@jupyter-widgets/controls",
      "_model_module_version": "1.5.0",
      "_model_name": "HTMLModel",
      "_view_count": null,
      "_view_module": "@jupyter-widgets/controls",
      "_view_module_version": "1.5.0",
      "_view_name": "HTMLView",
      "description": "",
      "description_tooltip": null,
      "layout": "IPY_MODEL_98447e3d573a4c10b410f8d2b64d38b5",
      "placeholder": "​",
      "style": "IPY_MODEL_a9eb02fade2f4ba38393b81b0f4f053e",
      "value": " 768/768 [00:00&lt;00:00, 12.4kB/s]"
     }
    },
    "da1ce052204246a387859140ac306544": {
     "model_module": "@jupyter-widgets/controls",
     "model_module_version": "1.5.0",
     "model_name": "DescriptionStyleModel",
     "state": {
      "_model_module": "@jupyter-widgets/controls",
      "_model_module_version": "1.5.0",
      "_model_name": "DescriptionStyleModel",
      "_view_count": null,
      "_view_module": "@jupyter-widgets/base",
      "_view_module_version": "1.2.0",
      "_view_name": "StyleView",
      "description_width": ""
     }
    },
    "db1d8b8a5b7140458456f30db5fecc89": {
     "model_module": "@jupyter-widgets/base",
     "model_module_version": "1.2.0",
     "model_name": "LayoutModel",
     "state": {
      "_model_module": "@jupyter-widgets/base",
      "_model_module_version": "1.2.0",
      "_model_name": "LayoutModel",
      "_view_count": null,
      "_view_module": "@jupyter-widgets/base",
      "_view_module_version": "1.2.0",
      "_view_name": "LayoutView",
      "align_content": null,
      "align_items": null,
      "align_self": null,
      "border": null,
      "bottom": null,
      "display": null,
      "flex": null,
      "flex_flow": null,
      "grid_area": null,
      "grid_auto_columns": null,
      "grid_auto_flow": null,
      "grid_auto_rows": null,
      "grid_column": null,
      "grid_gap": null,
      "grid_row": null,
      "grid_template_areas": null,
      "grid_template_columns": null,
      "grid_template_rows": null,
      "height": null,
      "justify_content": null,
      "justify_items": null,
      "left": null,
      "margin": null,
      "max_height": null,
      "max_width": null,
      "min_height": null,
      "min_width": null,
      "object_fit": null,
      "object_position": null,
      "order": null,
      "overflow": null,
      "overflow_x": null,
      "overflow_y": null,
      "padding": null,
      "right": null,
      "top": null,
      "visibility": null,
      "width": null
     }
    },
    "dc6a0acf6b1746a4891c8e74a34903e9": {
     "model_module": "@jupyter-widgets/controls",
     "model_module_version": "1.5.0",
     "model_name": "ProgressStyleModel",
     "state": {
      "_model_module": "@jupyter-widgets/controls",
      "_model_module_version": "1.5.0",
      "_model_name": "ProgressStyleModel",
      "_view_count": null,
      "_view_module": "@jupyter-widgets/base",
      "_view_module_version": "1.2.0",
      "_view_name": "StyleView",
      "bar_color": null,
      "description_width": ""
     }
    },
    "e242e78bbd0e45cdbd9c6d29d70bcb59": {
     "model_module": "@jupyter-widgets/base",
     "model_module_version": "1.2.0",
     "model_name": "LayoutModel",
     "state": {
      "_model_module": "@jupyter-widgets/base",
      "_model_module_version": "1.2.0",
      "_model_name": "LayoutModel",
      "_view_count": null,
      "_view_module": "@jupyter-widgets/base",
      "_view_module_version": "1.2.0",
      "_view_name": "LayoutView",
      "align_content": null,
      "align_items": null,
      "align_self": null,
      "border": null,
      "bottom": null,
      "display": null,
      "flex": null,
      "flex_flow": null,
      "grid_area": null,
      "grid_auto_columns": null,
      "grid_auto_flow": null,
      "grid_auto_rows": null,
      "grid_column": null,
      "grid_gap": null,
      "grid_row": null,
      "grid_template_areas": null,
      "grid_template_columns": null,
      "grid_template_rows": null,
      "height": null,
      "justify_content": null,
      "justify_items": null,
      "left": null,
      "margin": null,
      "max_height": null,
      "max_width": null,
      "min_height": null,
      "min_width": null,
      "object_fit": null,
      "object_position": null,
      "order": null,
      "overflow": null,
      "overflow_x": null,
      "overflow_y": null,
      "padding": null,
      "right": null,
      "top": null,
      "visibility": null,
      "width": null
     }
    },
    "eb22eda96e084d8995e4f3fe05356df0": {
     "model_module": "@jupyter-widgets/base",
     "model_module_version": "1.2.0",
     "model_name": "LayoutModel",
     "state": {
      "_model_module": "@jupyter-widgets/base",
      "_model_module_version": "1.2.0",
      "_model_name": "LayoutModel",
      "_view_count": null,
      "_view_module": "@jupyter-widgets/base",
      "_view_module_version": "1.2.0",
      "_view_name": "LayoutView",
      "align_content": null,
      "align_items": null,
      "align_self": null,
      "border": null,
      "bottom": null,
      "display": null,
      "flex": null,
      "flex_flow": null,
      "grid_area": null,
      "grid_auto_columns": null,
      "grid_auto_flow": null,
      "grid_auto_rows": null,
      "grid_column": null,
      "grid_gap": null,
      "grid_row": null,
      "grid_template_areas": null,
      "grid_template_columns": null,
      "grid_template_rows": null,
      "height": null,
      "justify_content": null,
      "justify_items": null,
      "left": null,
      "margin": null,
      "max_height": null,
      "max_width": null,
      "min_height": null,
      "min_width": null,
      "object_fit": null,
      "object_position": null,
      "order": null,
      "overflow": null,
      "overflow_x": null,
      "overflow_y": null,
      "padding": null,
      "right": null,
      "top": null,
      "visibility": null,
      "width": null
     }
    },
    "f1a7a698c9a9400ca9c92943cc363222": {
     "model_module": "@jupyter-widgets/base",
     "model_module_version": "1.2.0",
     "model_name": "LayoutModel",
     "state": {
      "_model_module": "@jupyter-widgets/base",
      "_model_module_version": "1.2.0",
      "_model_name": "LayoutModel",
      "_view_count": null,
      "_view_module": "@jupyter-widgets/base",
      "_view_module_version": "1.2.0",
      "_view_name": "LayoutView",
      "align_content": null,
      "align_items": null,
      "align_self": null,
      "border": null,
      "bottom": null,
      "display": null,
      "flex": null,
      "flex_flow": null,
      "grid_area": null,
      "grid_auto_columns": null,
      "grid_auto_flow": null,
      "grid_auto_rows": null,
      "grid_column": null,
      "grid_gap": null,
      "grid_row": null,
      "grid_template_areas": null,
      "grid_template_columns": null,
      "grid_template_rows": null,
      "height": null,
      "justify_content": null,
      "justify_items": null,
      "left": null,
      "margin": null,
      "max_height": null,
      "max_width": null,
      "min_height": null,
      "min_width": null,
      "object_fit": null,
      "object_position": null,
      "order": null,
      "overflow": null,
      "overflow_x": null,
      "overflow_y": null,
      "padding": null,
      "right": null,
      "top": null,
      "visibility": null,
      "width": null
     }
    },
    "f38c24da776f452fb323e317d57242d0": {
     "model_module": "@jupyter-widgets/controls",
     "model_module_version": "1.5.0",
     "model_name": "HTMLModel",
     "state": {
      "_dom_classes": [],
      "_model_module": "@jupyter-widgets/controls",
      "_model_module_version": "1.5.0",
      "_model_name": "HTMLModel",
      "_view_count": null,
      "_view_module": "@jupyter-widgets/controls",
      "_view_module_version": "1.5.0",
      "_view_name": "HTMLView",
      "description": "",
      "description_tooltip": null,
      "layout": "IPY_MODEL_3b60488927dc415ab4a1d8ef6ff83be4",
      "placeholder": "​",
      "style": "IPY_MODEL_178b434494f442d98dda90d9db60c13f",
      "value": " 446k/446k [00:00&lt;00:00, 1.80MB/s]"
     }
    }
   }
  }
 },
 "nbformat": 4,
 "nbformat_minor": 5
}
