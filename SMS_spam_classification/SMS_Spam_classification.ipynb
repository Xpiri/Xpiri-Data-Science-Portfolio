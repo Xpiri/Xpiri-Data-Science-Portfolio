{
 "cells": [
  {
   "cell_type": "markdown",
   "id": "d2b2ca48",
   "metadata": {},
   "source": [
    "## SMS Spam classification \n",
    "\n",
    "**Data**: The data for this notebook comes from the SMS Spam Collection from kaggle. The SMS Spam Collection is a set of SMS tagged messages that have been collected for SMS Spam research. It contains one set of SMS messages in English of 5,574 messages, tagged acording being ham (legitimate) or spam.\n",
    "URL: https://www.kaggle.com/datasets/uciml/sms-spam-collection-dataset\n",
    "\n",
    "**Methods**: In this notebook we will perform some data cleaning, along with some exploratory analysis of our data. We will then start modeling by setting two baseline machine learning models (Naive Bayes and SVM) and move towards deep learning models (RNNs: LSTM and GRU) to compare their performance on this text classification task."
   ]
  },
  {
   "cell_type": "code",
   "execution_count": 3,
   "id": "c39e2105",
   "metadata": {},
   "outputs": [
    {
     "ename": "ModuleNotFoundError",
     "evalue": "No module named 'wordcloud'",
     "output_type": "error",
     "traceback": [
      "\u001b[1;31m---------------------------------------------------------------------------\u001b[0m",
      "\u001b[1;31mModuleNotFoundError\u001b[0m                       Traceback (most recent call last)",
      "\u001b[1;32m~\\AppData\\Local\\Temp/ipykernel_9552/3518653115.py\u001b[0m in \u001b[0;36m<module>\u001b[1;34m\u001b[0m\n\u001b[0;32m      7\u001b[0m \u001b[1;33m\u001b[0m\u001b[0m\n\u001b[0;32m      8\u001b[0m \u001b[1;32mfrom\u001b[0m \u001b[0msklearn\u001b[0m\u001b[1;33m.\u001b[0m\u001b[0mmetrics\u001b[0m \u001b[1;32mimport\u001b[0m \u001b[0maccuracy_score\u001b[0m\u001b[1;33m,\u001b[0m \u001b[0mf1_score\u001b[0m\u001b[1;33m,\u001b[0m \u001b[0mconfusion_matrix\u001b[0m\u001b[1;33m,\u001b[0m \u001b[0mroc_curve\u001b[0m\u001b[1;33m\u001b[0m\u001b[1;33m\u001b[0m\u001b[0m\n\u001b[1;32m----> 9\u001b[1;33m \u001b[1;32mfrom\u001b[0m \u001b[0mwordcloud\u001b[0m \u001b[1;32mimport\u001b[0m \u001b[0mWordCloud\u001b[0m\u001b[1;33m,\u001b[0m \u001b[0mSTOPWORDS\u001b[0m\u001b[1;33m,\u001b[0m \u001b[0mImageColorGenerator\u001b[0m\u001b[1;33m\u001b[0m\u001b[1;33m\u001b[0m\u001b[0m\n\u001b[0m\u001b[0;32m     10\u001b[0m \u001b[1;32mfrom\u001b[0m \u001b[0msklearn\u001b[0m\u001b[1;33m.\u001b[0m\u001b[0mmodel_selection\u001b[0m \u001b[1;32mimport\u001b[0m \u001b[0mtrain_test_split\u001b[0m\u001b[1;33m,\u001b[0m \u001b[0mGridSearchCV\u001b[0m\u001b[1;33m\u001b[0m\u001b[1;33m\u001b[0m\u001b[0m\n\u001b[0;32m     11\u001b[0m \u001b[1;32mimport\u001b[0m \u001b[0mseaborn\u001b[0m \u001b[1;32mas\u001b[0m \u001b[0msns\u001b[0m\u001b[1;33m\u001b[0m\u001b[1;33m\u001b[0m\u001b[0m\n",
      "\u001b[1;31mModuleNotFoundError\u001b[0m: No module named 'wordcloud'"
     ]
    }
   ],
   "source": [
    "import pandas as pd\n",
    "import seaborn as sns \n",
    "import matplotlib.pyplot as plt \n",
    "import numpy as np \n",
    "from func_helpers import accuracy_metrics \n",
    "import tensorflow as tf \n",
    "\n",
    "from sklearn.metrics import accuracy_score, f1_score, confusion_matrix, roc_curve\n",
    "from wordcloud import WordCloud, STOPWORDS, ImageColorGenerator\n",
    "from sklearn.model_selection import train_test_split, GridSearchCV\n",
    "import seaborn as sns "
   ]
  },
  {
   "cell_type": "code",
   "execution_count": 8,
   "id": "c4533394",
   "metadata": {},
   "outputs": [
    {
     "name": "stdout",
     "output_type": "stream",
     "text": [
      "Requirement already satisfied: pandas in c:\\users\\ilpan\\anaconda3\\lib\\site-packages (1.4.2)\n",
      "Requirement already satisfied: python-dateutil>=2.8.1 in c:\\users\\ilpan\\anaconda3\\lib\\site-packages (from pandas) (2.8.2)\n",
      "Requirement already satisfied: numpy>=1.18.5 in c:\\users\\ilpan\\anaconda3\\lib\\site-packages (from pandas) (1.20.3)\n",
      "Requirement already satisfied: pytz>=2020.1 in c:\\users\\ilpan\\anaconda3\\lib\\site-packages (from pandas) (2021.3)\n",
      "Requirement already satisfied: six>=1.5 in c:\\users\\ilpan\\anaconda3\\lib\\site-packages (from python-dateutil>=2.8.1->pandas) (1.16.0)\n"
     ]
    }
   ],
   "source": [
    "import sys\n",
    "!{sys.executable} -m pip install pandas --upgrade --user"
   ]
  },
  {
   "cell_type": "code",
   "execution_count": 13,
   "id": "e5565d75",
   "metadata": {},
   "outputs": [
    {
     "data": {
      "text/html": [
       "<div>\n",
       "<style scoped>\n",
       "    .dataframe tbody tr th:only-of-type {\n",
       "        vertical-align: middle;\n",
       "    }\n",
       "\n",
       "    .dataframe tbody tr th {\n",
       "        vertical-align: top;\n",
       "    }\n",
       "\n",
       "    .dataframe thead th {\n",
       "        text-align: right;\n",
       "    }\n",
       "</style>\n",
       "<table border=\"1\" class=\"dataframe\">\n",
       "  <thead>\n",
       "    <tr style=\"text-align: right;\">\n",
       "      <th></th>\n",
       "      <th>v1</th>\n",
       "      <th>v2</th>\n",
       "      <th>Unnamed: 2</th>\n",
       "      <th>Unnamed: 3</th>\n",
       "      <th>Unnamed: 4</th>\n",
       "    </tr>\n",
       "  </thead>\n",
       "  <tbody>\n",
       "    <tr>\n",
       "      <th>0</th>\n",
       "      <td>ham</td>\n",
       "      <td>Go until jurong point, crazy.. Available only ...</td>\n",
       "      <td>NaN</td>\n",
       "      <td>NaN</td>\n",
       "      <td>NaN</td>\n",
       "    </tr>\n",
       "    <tr>\n",
       "      <th>1</th>\n",
       "      <td>ham</td>\n",
       "      <td>Ok lar... Joking wif u oni...</td>\n",
       "      <td>NaN</td>\n",
       "      <td>NaN</td>\n",
       "      <td>NaN</td>\n",
       "    </tr>\n",
       "    <tr>\n",
       "      <th>2</th>\n",
       "      <td>spam</td>\n",
       "      <td>Free entry in 2 a wkly comp to win FA Cup fina...</td>\n",
       "      <td>NaN</td>\n",
       "      <td>NaN</td>\n",
       "      <td>NaN</td>\n",
       "    </tr>\n",
       "    <tr>\n",
       "      <th>3</th>\n",
       "      <td>ham</td>\n",
       "      <td>U dun say so early hor... U c already then say...</td>\n",
       "      <td>NaN</td>\n",
       "      <td>NaN</td>\n",
       "      <td>NaN</td>\n",
       "    </tr>\n",
       "    <tr>\n",
       "      <th>4</th>\n",
       "      <td>ham</td>\n",
       "      <td>Nah I don't think he goes to usf, he lives aro...</td>\n",
       "      <td>NaN</td>\n",
       "      <td>NaN</td>\n",
       "      <td>NaN</td>\n",
       "    </tr>\n",
       "  </tbody>\n",
       "</table>\n",
       "</div>"
      ],
      "text/plain": [
       "     v1                                                 v2 Unnamed: 2  \\\n",
       "0   ham  Go until jurong point, crazy.. Available only ...        NaN   \n",
       "1   ham                      Ok lar... Joking wif u oni...        NaN   \n",
       "2  spam  Free entry in 2 a wkly comp to win FA Cup fina...        NaN   \n",
       "3   ham  U dun say so early hor... U c already then say...        NaN   \n",
       "4   ham  Nah I don't think he goes to usf, he lives aro...        NaN   \n",
       "\n",
       "  Unnamed: 3 Unnamed: 4  \n",
       "0        NaN        NaN  \n",
       "1        NaN        NaN  \n",
       "2        NaN        NaN  \n",
       "3        NaN        NaN  \n",
       "4        NaN        NaN  "
      ]
     },
     "execution_count": 13,
     "metadata": {},
     "output_type": "execute_result"
    }
   ],
   "source": [
    "data = pd.read_csv(r'spam.csv', sep = ',', encoding=\"ISO-8859-1\")\n",
    "data.head() "
   ]
  },
  {
   "cell_type": "code",
   "execution_count": 14,
   "id": "ce93125b",
   "metadata": {},
   "outputs": [
    {
     "data": {
      "text/plain": [
       "v1               0\n",
       "v2               0\n",
       "Unnamed: 2    5522\n",
       "Unnamed: 3    5560\n",
       "Unnamed: 4    5566\n",
       "dtype: int64"
      ]
     },
     "execution_count": 14,
     "metadata": {},
     "output_type": "execute_result"
    }
   ],
   "source": [
    "data.isna().sum() #Columns 2, 3 and 4 only contain NaNs"
   ]
  },
  {
   "cell_type": "markdown",
   "id": "1b48ee1b",
   "metadata": {},
   "source": [
    "### Data cleaning: remove the 3 NaN columns and give proper column names to text and labels"
   ]
  },
  {
   "cell_type": "code",
   "execution_count": 15,
   "id": "1dcded33",
   "metadata": {},
   "outputs": [],
   "source": [
    "data.dropna(how=\"any\", inplace=True, axis=1)\n",
    "data.columns = ['label', 'text']"
   ]
  },
  {
   "cell_type": "code",
   "execution_count": 16,
   "id": "bfe1a594",
   "metadata": {},
   "outputs": [
    {
     "data": {
      "text/html": [
       "<div>\n",
       "<style scoped>\n",
       "    .dataframe tbody tr th:only-of-type {\n",
       "        vertical-align: middle;\n",
       "    }\n",
       "\n",
       "    .dataframe tbody tr th {\n",
       "        vertical-align: top;\n",
       "    }\n",
       "\n",
       "    .dataframe thead th {\n",
       "        text-align: right;\n",
       "    }\n",
       "</style>\n",
       "<table border=\"1\" class=\"dataframe\">\n",
       "  <thead>\n",
       "    <tr style=\"text-align: right;\">\n",
       "      <th></th>\n",
       "      <th>label</th>\n",
       "      <th>text</th>\n",
       "    </tr>\n",
       "  </thead>\n",
       "  <tbody>\n",
       "    <tr>\n",
       "      <th>0</th>\n",
       "      <td>ham</td>\n",
       "      <td>Go until jurong point, crazy.. Available only ...</td>\n",
       "    </tr>\n",
       "    <tr>\n",
       "      <th>1</th>\n",
       "      <td>ham</td>\n",
       "      <td>Ok lar... Joking wif u oni...</td>\n",
       "    </tr>\n",
       "    <tr>\n",
       "      <th>2</th>\n",
       "      <td>spam</td>\n",
       "      <td>Free entry in 2 a wkly comp to win FA Cup fina...</td>\n",
       "    </tr>\n",
       "    <tr>\n",
       "      <th>3</th>\n",
       "      <td>ham</td>\n",
       "      <td>U dun say so early hor... U c already then say...</td>\n",
       "    </tr>\n",
       "    <tr>\n",
       "      <th>4</th>\n",
       "      <td>ham</td>\n",
       "      <td>Nah I don't think he goes to usf, he lives aro...</td>\n",
       "    </tr>\n",
       "  </tbody>\n",
       "</table>\n",
       "</div>"
      ],
      "text/plain": [
       "  label                                               text\n",
       "0   ham  Go until jurong point, crazy.. Available only ...\n",
       "1   ham                      Ok lar... Joking wif u oni...\n",
       "2  spam  Free entry in 2 a wkly comp to win FA Cup fina...\n",
       "3   ham  U dun say so early hor... U c already then say...\n",
       "4   ham  Nah I don't think he goes to usf, he lives aro..."
      ]
     },
     "execution_count": 16,
     "metadata": {},
     "output_type": "execute_result"
    }
   ],
   "source": [
    "data.head()"
   ]
  },
  {
   "cell_type": "markdown",
   "id": "52c97155",
   "metadata": {},
   "source": [
    "**Exploratory analysis**: Target variable distribution"
   ]
  },
  {
   "cell_type": "code",
   "execution_count": 17,
   "id": "c67e2a7d",
   "metadata": {},
   "outputs": [
    {
     "name": "stdout",
     "output_type": "stream",
     "text": [
      "The ratio between ham and spam text is 6.46 to 1\n"
     ]
    },
    {
     "data": {
      "image/png": "[encoded data removed]",
      "text/plain": [
       "<Figure size 432x288 with 1 Axes>"
      ]
     },
     "metadata": {
      "needs_background": "light"
     },
     "output_type": "display_data"
    }
   ],
   "source": [
    "target_dist = data['label'].value_counts()\n",
    "ax = target_dist.plot(kind = 'bar')\n",
    "ax.bar_label(ax.containers[0])\n",
    "\n",
    "print(f'The ratio between ham and spam text is {round(target_dist[\"ham\"] / target_dist[\"spam\"],2)} to 1')"
   ]
  },
  {
   "cell_type": "markdown",
   "id": "ae49d651",
   "metadata": {},
   "source": [
    "The labels are slightly imbalanced, but regular classification techniques should still be enough!"
   ]
  },
  {
   "cell_type": "markdown",
   "id": "53534c65",
   "metadata": {},
   "source": [
    "Let's check the **word count distribution** between the two categories"
   ]
  },
  {
   "cell_type": "code",
   "execution_count": 18,
   "id": "ba51952c",
   "metadata": {},
   "outputs": [
    {
     "data": {
      "text/plain": [
       "Text(0.5, 0.98, 'Words distribution')"
      ]
     },
     "execution_count": 18,
     "metadata": {},
     "output_type": "execute_result"
    },
    {
     "data": {
      "image/png": "[encoded data removed]",
      "text/plain": [
       "<Figure size 864x360 with 2 Axes>"
      ]
     },
     "metadata": {
      "needs_background": "light"
     },
     "output_type": "display_data"
    }
   ],
   "source": [
    "data['len_words'] = data['text'].apply(lambda x: len(x.split(' ')))\n",
    "\n",
    "fig, ax = plt.subplots(1,2, figsize = (12,5))\n",
    "sns.histplot(data = data, x = 'len_words', hue = 'label', ax = ax[0], kde = True)\n",
    "ax[0].set_xlim(0,75)\n",
    "sns.violinplot(data = data,  x = 'label', y = 'len_words', hue = 'label', ax = ax[1])\n",
    "ax[1].set_ylim(-1,75)\n",
    "fig.suptitle('Words distribution')"
   ]
  },
  {
   "cell_type": "markdown",
   "id": "2bec39ed",
   "metadata": {},
   "source": [
    "Spam texts tend to have a length of 20-30 words, while regular texts are mostly shorter than 20 words. \\\n",
    "What if we also look at **character counts** rather than word counts for both groups?"
   ]
  },
  {
   "cell_type": "code",
   "execution_count": 19,
   "id": "3c62a9f3",
   "metadata": {},
   "outputs": [
    {
     "data": {
      "text/plain": [
       "Text(0.5, 0.98, 'Character lenght distribution ')"
      ]
     },
     "execution_count": 19,
     "metadata": {},
     "output_type": "execute_result"
    },
    {
     "data": {
      "image/png": "[encoded data removed]",
      "text/plain": [
       "<Figure size 864x360 with 2 Axes>"
      ]
     },
     "metadata": {
      "needs_background": "light"
     },
     "output_type": "display_data"
    }
   ],
   "source": [
    "data['len_chars'] = data['text'].apply(lambda x: len(x))\n",
    "\n",
    "fig, ax = plt.subplots(1,2, figsize = (12,5))\n",
    "sns.histplot(data = data, x = 'len_chars', hue = 'label', ax = ax[0], kde = True)\n",
    "ax[0].set_xlim(0,250)\n",
    "sns.violinplot(data = data,  x = 'label', y = 'len_chars', hue = 'label', ax = ax[1])\n",
    "ax[1].set_ylim(0,250)\n",
    "fig.suptitle('Character lenght distribution ')"
   ]
  },
  {
   "cell_type": "markdown",
   "id": "a3b785d3",
   "metadata": {},
   "source": [
    "We can see similar results to what we previously saw for words. \\\n",
    "Let's look at one more thing: most common words from the two different categories!"
   ]
  },
  {
   "cell_type": "code",
   "execution_count": 20,
   "id": "8a7171b5",
   "metadata": {},
   "outputs": [],
   "source": [
    "texts_spam = [obs['text'] for n,obs in data.loc[data['label']=='spam'].iterrows()]\n",
    "texts_spam = ' '.join(texts_spam)\n",
    "texts_ham = [obs['text'] for n,obs in data.loc[data['label']=='ham'].iterrows()]\n",
    "texts_ham = ' '.join(texts_ham)"
   ]
  },
  {
   "cell_type": "code",
   "execution_count": 21,
   "id": "3b1cab33",
   "metadata": {
    "scrolled": false
   },
   "outputs": [
    {
     "ename": "ModuleNotFoundError",
     "evalue": "No module named 'wordcloud'",
     "output_type": "error",
     "traceback": [
      "\u001b[1;31m---------------------------------------------------------------------------\u001b[0m",
      "\u001b[1;31mModuleNotFoundError\u001b[0m                       Traceback (most recent call last)",
      "\u001b[1;32m~\\AppData\\Local\\Temp/ipykernel_9552/3319666490.py\u001b[0m in \u001b[0;36m<module>\u001b[1;34m\u001b[0m\n\u001b[1;32m----> 1\u001b[1;33m \u001b[1;32mfrom\u001b[0m \u001b[0mwordcloud\u001b[0m \u001b[1;32mimport\u001b[0m \u001b[0mWordCloud\u001b[0m\u001b[1;33m,\u001b[0m \u001b[0mImageColorGenerator\u001b[0m\u001b[1;33m\u001b[0m\u001b[1;33m\u001b[0m\u001b[0m\n\u001b[0m\u001b[0;32m      2\u001b[0m \u001b[1;33m\u001b[0m\u001b[0m\n\u001b[0;32m      3\u001b[0m \u001b[0mfig\u001b[0m\u001b[1;33m,\u001b[0m \u001b[0maxs\u001b[0m \u001b[1;33m=\u001b[0m \u001b[0mplt\u001b[0m\u001b[1;33m.\u001b[0m\u001b[0msubplots\u001b[0m\u001b[1;33m(\u001b[0m\u001b[1;36m2\u001b[0m\u001b[1;33m,\u001b[0m\u001b[1;36m2\u001b[0m\u001b[1;33m,\u001b[0m\u001b[0mfigsize\u001b[0m \u001b[1;33m=\u001b[0m \u001b[1;33m(\u001b[0m\u001b[1;36m15\u001b[0m\u001b[1;33m,\u001b[0m\u001b[1;36m10\u001b[0m\u001b[1;33m)\u001b[0m\u001b[1;33m)\u001b[0m\u001b[1;33m\u001b[0m\u001b[1;33m\u001b[0m\u001b[0m\n\u001b[0;32m      4\u001b[0m \u001b[0mwordcloud_spam\u001b[0m \u001b[1;33m=\u001b[0m \u001b[0mWordCloud\u001b[0m\u001b[1;33m(\u001b[0m\u001b[0mmax_words\u001b[0m \u001b[1;33m=\u001b[0m \u001b[1;36m50\u001b[0m\u001b[1;33m)\u001b[0m\u001b[1;33m.\u001b[0m\u001b[0mgenerate\u001b[0m\u001b[1;33m(\u001b[0m\u001b[0mtexts_spam\u001b[0m\u001b[1;33m)\u001b[0m\u001b[1;33m\u001b[0m\u001b[1;33m\u001b[0m\u001b[0m\n\u001b[0;32m      5\u001b[0m \u001b[0maxs\u001b[0m\u001b[1;33m[\u001b[0m\u001b[1;36m0\u001b[0m\u001b[1;33m,\u001b[0m\u001b[1;36m0\u001b[0m\u001b[1;33m]\u001b[0m\u001b[1;33m.\u001b[0m\u001b[0mimshow\u001b[0m\u001b[1;33m(\u001b[0m\u001b[0mwordcloud_spam\u001b[0m\u001b[1;33m,\u001b[0m \u001b[0minterpolation\u001b[0m\u001b[1;33m=\u001b[0m\u001b[1;34m'bilinear'\u001b[0m\u001b[1;33m)\u001b[0m\u001b[1;33m\u001b[0m\u001b[1;33m\u001b[0m\u001b[0m\n",
      "\u001b[1;31mModuleNotFoundError\u001b[0m: No module named 'wordcloud'"
     ]
    }
   ],
   "source": [
    "from wordcloud import WordCloud, ImageColorGenerator\n",
    "\n",
    "fig, axs = plt.subplots(2,2,figsize = (15,10))\n",
    "wordcloud_spam = WordCloud(max_words = 50).generate(texts_spam)\n",
    "axs[0,0].imshow(wordcloud_spam, interpolation='bilinear')\n",
    "axs[0,0].set_title('Most frequent Spam words')\n",
    "axs[0,0].axis(\"off\")\n",
    "\n",
    "wordcloud_ham = WordCloud(max_words = 50).generate(texts_ham)\n",
    "axs[0,1].imshow(wordcloud_ham, interpolation='bilinear')\n",
    "axs[0,1].set_title('Most frequent Ham words')\n",
    "axs[0,1].axis(\"off\")\n",
    "\n",
    "pd.Series(texts_spam.split(' ')).value_counts()[:20].plot.bar(ax = axs[1,0])\n",
    "pd.Series(texts_ham.split(' ')).value_counts()[:20].plot.bar(ax = axs[1,1])\n",
    "plt.show()"
   ]
  },
  {
   "cell_type": "markdown",
   "id": "50574297",
   "metadata": {},
   "source": [
    "We can see how the most common words from both spam and ham are stop words. We might require some cleaning of the data before modeling. \\\n",
    "By looking at the least common words, we can see that we also have to remove punctuation and phone numbers / URL links! "
   ]
  },
  {
   "cell_type": "code",
   "execution_count": null,
   "id": "25583c55",
   "metadata": {
    "scrolled": true
   },
   "outputs": [],
   "source": [
    "pd.Series(texts_ham.split(' ')).value_counts()[-50:], pd.Series(texts_ham.split(' ')).value_counts()[-50:]"
   ]
  },
  {
   "cell_type": "markdown",
   "id": "4c5a91bb",
   "metadata": {},
   "source": [
    "Thanks to all the previous insights, we can get started with..\n",
    "\n",
    "# Data processing for modeling \n",
    "\n",
    "Let's start by removing stop words, punctuation, phone numbers and URLS as we just said! "
   ]
  },
  {
   "cell_type": "code",
   "execution_count": 22,
   "id": "4b9f684a",
   "metadata": {
    "scrolled": true
   },
   "outputs": [],
   "source": [
    "from nltk.corpus import stopwords\n",
    "from string import punctuation \n",
    "\n",
    "sw = set(stopwords.words('english'))\n",
    "punct = list(punctuation)\n",
    "sw.update(punct)\n",
    "\n",
    "def clean_data(txt):\n",
    "    col = [i.strip() for i in txt.split()  if i.strip().lower() not in sw if i.strip().isalpha()]\n",
    "    return ' '.join(col)\n",
    "\n",
    "data['text'] = data['text'].apply(lambda x: clean_data(x))"
   ]
  },
  {
   "cell_type": "markdown",
   "id": "c2c2fbfa",
   "metadata": {},
   "source": [
    "Let's take a quick look at some rows and see if everything looks good!"
   ]
  },
  {
   "cell_type": "code",
   "execution_count": 23,
   "id": "44500c8a",
   "metadata": {},
   "outputs": [
    {
     "name": "stdout",
     "output_type": "stream",
     "text": [
      "Go jurong Available bugis n great world la e Cine got amore\n",
      "Ok Joking wif u\n",
      "Free entry wkly comp win FA Cup final tkts May Text FA receive entry txt apply\n",
      "U dun say early U c already\n",
      "Nah think goes lives around though\n",
      "FreeMsg Hey darling word like fun Tb XxX std chgs rcv\n",
      "Even brother like speak treat like aids\n",
      "per request Melle Minnaminunginte Nurungu set callertune Press copy friends Callertune\n",
      "valued network customer selected receivea prize claim call Claim code Valid hours\n",
      "mobile months U R entitled Update latest colour mobiles camera Call Mobile Update Co FREE\n",
      "gonna home soon want talk stuff anymore cried enough\n",
      "SIX chances win pounds send Cost TsandCs apply Reply HL info\n",
      "week FREE membership Prize Txt CLAIM LCCLTD POBOX\n",
      "searching right words thank promise wont take help granted fulfil wonderful blessing\n",
      "DATE SUNDAY\n",
      "use click WAP link next txt message click\n",
      "Oh watching\n",
      "Eh u remember spell Yes v naughty make v\n",
      "Fine thatåÕs way u ThatåÕs way gota b\n",
      "England v Macedonia dont miss Txt ur national team eg ENGLAND SCOTLAND\n"
     ]
    }
   ],
   "source": [
    "for ind,row in data[:20].iterrows():\n",
    "    print(row['text'])"
   ]
  },
  {
   "cell_type": "markdown",
   "id": "71fe2eb0",
   "metadata": {},
   "source": [
    "As a last step before extracting features from our texts, I want to apply **lemmatization** to our tokens.\n",
    "\n",
    "I'm not going to apply stemming (at least for now) as I am not the biggest fan of this technique and don't feel like this is a preprocessing needed for this task. Although stemming can often prove to be useful, there's plenty of examples where stemming can lead to the union of words with very different meanings just because they share a similar root, whereas with lemmatization these cases tend to be less frequent. \\\n",
    "For more information and some debate on stemming, I suggest to see this issue on SpaCy's github:  https://github.com/explosion/spaCy/issues/327  \n",
    "\n",
    "For now, let's just stick with the WordNet Lemmatizer from the nltk library!"
   ]
  },
  {
   "cell_type": "code",
   "execution_count": 26,
   "id": "d66d3aa2",
   "metadata": {
    "scrolled": true
   },
   "outputs": [],
   "source": [
    "import nltk\n",
    "from nltk.stem import WordNetLemmatizer \n",
    "\n",
    "def lemmatize_sentence(sentence):\n",
    "    \n",
    "    lemmatizer = WordNetLemmatizer()\n",
    "    words = nltk.word_tokenize(sentence)\n",
    "    lemmatized_output = ' '.join([lemmatizer.lemmatize(w) for w in words])\n",
    "    \n",
    "    return lemmatized_output\n",
    "\n",
    "data['text'] = data['text'].apply(lambda x: lemmatize_sentence(x))"
   ]
  },
  {
   "cell_type": "markdown",
   "id": "4958434e",
   "metadata": {},
   "source": [
    "## Model baselines \n",
    "We will have two baseline model pipelines: tf-idf + Naive Bayes  and tf-idf + SVM.\\\n",
    "Naive Bayes and SVM used to be a staple of Machine Learning text classification, therefore we will use these two methods as a baseline and build up from there."
   ]
  },
  {
   "cell_type": "code",
   "execution_count": 27,
   "id": "89d18dca",
   "metadata": {
    "scrolled": true
   },
   "outputs": [],
   "source": [
    "from sklearn.feature_extraction.text import TfidfVectorizer, CountVectorizer\n",
    "\n",
    "X = data['text']\n",
    "y = (data['label']=='spam').astype(int)\n",
    "\n",
    "vectorizer = TfidfVectorizer()\n",
    "X = vectorizer.fit_transform(X)\n",
    "\n",
    "X_train, X_test, y_train, y_test = train_test_split(X, y, random_state = 42, test_size=.2, stratify = y)\n",
    "\n",
    "results_dic = {} \n",
    "roc_dic = {}"
   ]
  },
  {
   "cell_type": "code",
   "execution_count": 28,
   "id": "0cf97700",
   "metadata": {},
   "outputs": [
    {
     "name": "stdout",
     "output_type": "stream",
     "text": [
      "{'alpha': 0.1, 'fit_prior': True}\n"
     ]
    }
   ],
   "source": [
    "from sklearn.naive_bayes import BernoulliNB\n",
    "\n",
    "nb = BernoulliNB()\n",
    "parameters = {'fit_prior':(True, False), 'alpha':np.linspace(0.1,1, 10)}\n",
    "\n",
    "grid = GridSearchCV(nb, parameters)\n",
    "grid.fit(X_train, y_train)\n",
    "\n",
    "nb = BernoulliNB(**grid.best_params_)\n",
    "nb.fit(X_train, y_train)\n",
    "yhat = nb.predict(X_test)\n",
    "\n",
    "print(grid.best_params_)"
   ]
  },
  {
   "cell_type": "code",
   "execution_count": 29,
   "id": "535675cc",
   "metadata": {},
   "outputs": [
    {
     "name": "stdout",
     "output_type": "stream",
     "text": [
      "Accuracy: 0.9730941704035875 \n",
      "weighted F1-score: 0.9732494079794761\n"
     ]
    },
    {
     "data": {
      "image/png": "[encoded data removed]",
      "text/plain": [
       "<Figure size 576x360 with 2 Axes>"
      ]
     },
     "metadata": {
      "needs_background": "light"
     },
     "output_type": "display_data"
    }
   ],
   "source": [
    "name = 'Tf-idf + Naive Bayes'\n",
    "results_dic[name] = accuracy_metrics(y_test, yhat, name, mode = 'weighted')"
   ]
  },
  {
   "cell_type": "code",
   "execution_count": 30,
   "id": "ad9a207a",
   "metadata": {},
   "outputs": [
    {
     "name": "stdout",
     "output_type": "stream",
     "text": [
      "{'C': 1.0, 'kernel': 'linear'}\n"
     ]
    }
   ],
   "source": [
    "from sklearn import svm \n",
    "\n",
    "sv = svm.SVC(probability=True)\n",
    "parameters = {'kernel':('linear', 'rbf'), 'C':np.linspace(1,10,2)}\n",
    "\n",
    "grid = GridSearchCV(sv, parameters)\n",
    "grid.fit(X_train, y_train)\n",
    "\n",
    "sv = svm.SVC(**grid.best_params_, probability=True)\n",
    "sv.fit(X_train, y_train)\n",
    "yhat = sv.predict(X_test)\n",
    "\n",
    "print(grid.best_params_)"
   ]
  },
  {
   "cell_type": "code",
   "execution_count": 31,
   "id": "e0c2bc64",
   "metadata": {},
   "outputs": [
    {
     "name": "stdout",
     "output_type": "stream",
     "text": [
      "Accuracy: 0.9713004484304932 \n",
      "weighted F1-score: 0.9723812922292463\n"
     ]
    },
    {
     "data": {
      "image/png": "[encoded data removed]",
      "text/plain": [
       "<Figure size 576x360 with 2 Axes>"
      ]
     },
     "metadata": {
      "needs_background": "light"
     },
     "output_type": "display_data"
    }
   ],
   "source": [
    "name = 'Tf-idf + SVM'\n",
    "results_dic[name] = accuracy_metrics(y_test, yhat, name, mode = 'weighted')"
   ]
  },
  {
   "cell_type": "markdown",
   "id": "4851ee1c",
   "metadata": {},
   "source": [
    "The two baseline models already show some very good performance, with about **97.0% accuracy** and a **0.971% weighted f1-score**. I decided to use a weighted f1-score to account for the label class imbalance (we previously saw there was a 6.46 ratio between ham and spam labels)\n",
    "\n",
    "\n",
    "The highest results on kaggle for this dataset, however, are a little higher (about 98-99%) thanks to the use of RNNs and Transformers. On this notebook, I will only focus on the former (LSTM and GRUs).\n",
    "\n",
    "-----------\n",
    "\n",
    "## LSTM model\n",
    "In the following section I will use the tensorflow Sequential API to build a sequential LSTM model and train it on our data. \n",
    "\n",
    "I will split the Data as follows: 80% of data training set, 10% of data validation set, 10% of data test set"
   ]
  },
  {
   "cell_type": "code",
   "execution_count": 62,
   "id": "57c2c4ca",
   "metadata": {},
   "outputs": [],
   "source": [
    "X_train, X_other, y_train, y_other = train_test_split(data['text'], y, random_state = 42, test_size=.2, stratify = y)\n",
    "X_valid, X_test, y_valid, y_test = train_test_split(X_other,y_other, test_size=0.5, stratify = y_other)"
   ]
  },
  {
   "cell_type": "code",
   "execution_count": 83,
   "id": "253b37be",
   "metadata": {
    "scrolled": true
   },
   "outputs": [
    {
     "name": "stdout",
     "output_type": "stream",
     "text": [
      "You must install pydot (`pip install pydot`) and install graphviz (see instructions at https://graphviz.gitlab.io/download/) for plot_model/model_to_dot to work.\n"
     ]
    }
   ],
   "source": [
    "nwords = 2500\n",
    "drop_rate = .2\n",
    "\n",
    "encoder = tf.keras.layers.TextVectorization(max_tokens=nwords)\n",
    "encoder.adapt(X_train)\n",
    "\n",
    "model = tf.keras.Sequential([\n",
    "    tf.keras.layers.InputLayer(input_shape=[], dtype=tf.string),\n",
    "    encoder,\n",
    "    tf.keras.layers.Embedding(input_dim=len(encoder.get_vocabulary()), output_dim=62, mask_zero=True),\n",
    "    tf.keras.layers.LSTM(64),\n",
    "    tf.keras.layers.BatchNormalization(),\n",
    "    tf.keras.layers.Dropout(drop_rate),   \n",
    "    tf.keras.layers.Dense(128, activation='relu'),\n",
    "    tf.keras.layers.BatchNormalization(),\n",
    "    tf.keras.layers.Dropout(drop_rate),   \n",
    "    tf.keras.layers.Dense(1, activation='sigmoid')\n",
    "])\n",
    "tf.keras.utils.plot_model(model)"
   ]
  },
  {
   "cell_type": "code",
   "execution_count": 84,
   "id": "49d2dc8a",
   "metadata": {
    "scrolled": true
   },
   "outputs": [
    {
     "name": "stdout",
     "output_type": "stream",
     "text": [
      "Epoch 1/10\n",
      "140/140 [==============================] - 10s 40ms/step - loss: 0.7197 - accuracy: 0.6217 - val_loss: 0.6137 - val_accuracy: 0.8671\n",
      "Epoch 2/10\n",
      "140/140 [==============================] - 4s 32ms/step - loss: 0.5130 - accuracy: 0.7689 - val_loss: 0.5132 - val_accuracy: 0.8815\n",
      "Epoch 3/10\n",
      "140/140 [==============================] - 4s 32ms/step - loss: 0.3871 - accuracy: 0.8510 - val_loss: 0.3732 - val_accuracy: 0.9605\n",
      "Epoch 4/10\n",
      "140/140 [==============================] - 4s 32ms/step - loss: 0.2994 - accuracy: 0.9098 - val_loss: 0.2571 - val_accuracy: 0.9695\n",
      "Epoch 5/10\n",
      "140/140 [==============================] - 5s 32ms/step - loss: 0.2379 - accuracy: 0.9318 - val_loss: 0.1869 - val_accuracy: 0.9641\n",
      "Epoch 6/10\n",
      "140/140 [==============================] - 5s 32ms/step - loss: 0.1868 - accuracy: 0.9569 - val_loss: 0.1362 - val_accuracy: 0.9731\n",
      "Epoch 7/10\n",
      "140/140 [==============================] - 5s 33ms/step - loss: 0.1398 - accuracy: 0.9704 - val_loss: 0.1271 - val_accuracy: 0.9731\n",
      "Epoch 8/10\n",
      "140/140 [==============================] - 5s 36ms/step - loss: 0.1231 - accuracy: 0.9740 - val_loss: 0.1025 - val_accuracy: 0.9803\n",
      "Epoch 9/10\n",
      "140/140 [==============================] - 5s 32ms/step - loss: 0.1126 - accuracy: 0.9746 - val_loss: 0.0996 - val_accuracy: 0.9803\n",
      "Epoch 10/10\n",
      "140/140 [==============================] - 5s 33ms/step - loss: 0.0871 - accuracy: 0.9794 - val_loss: 0.0868 - val_accuracy: 0.9820\n"
     ]
    }
   ],
   "source": [
    "model.compile(loss=tf.keras.losses.BinaryCrossentropy(from_logits=False),\n",
    "      optimizer=tf.keras.optimizers.Adam(.0001),\n",
    "      metrics=['accuracy'])\n",
    "\n",
    "history = model.fit(X_train, y_train, validation_data=(X_valid,y_valid),epochs=10, batch_size=32) "
   ]
  },
  {
   "cell_type": "code",
   "execution_count": 85,
   "id": "c66539a6",
   "metadata": {},
   "outputs": [
    {
     "name": "stdout",
     "output_type": "stream",
     "text": [
      "Accuracy: 0.982078853046595 \n",
      "weighted F1-score: 0.981647630145093\n"
     ]
    },
    {
     "data": {
      "image/png": "[encoded data removed]",
      "text/plain": [
       "<Figure size 576x360 with 2 Axes>"
      ]
     },
     "metadata": {
      "needs_background": "light"
     },
     "output_type": "display_data"
    }
   ],
   "source": [
    "yhat = pd.Series((model.predict(X_test)>.5).reshape(-1)).astype(int)\n",
    "\n",
    "name = 'LSTM'\n",
    "results_dic[name] = accuracy_metrics( yhat, y_test, name)"
   ]
  },
  {
   "cell_type": "code",
   "execution_count": 86,
   "id": "df1b507e",
   "metadata": {},
   "outputs": [
    {
     "data": {
      "image/png": "[encoded data removed]",
      "text/plain": [
       "<Figure size 720x360 with 2 Axes>"
      ]
     },
     "metadata": {
      "needs_background": "light"
     },
     "output_type": "display_data"
    }
   ],
   "source": [
    "lstm_metrics = pd.DataFrame(history.history)\n",
    "\n",
    "fig,axs = plt.subplots(1,2,figsize = (10,5))\n",
    "lstm_metrics[['loss','val_loss']].plot(ax = axs[0])\n",
    "lstm_metrics[['accuracy','val_accuracy']].plot(ax = axs[1])\n",
    "plt.show()"
   ]
  },
  {
   "cell_type": "markdown",
   "id": "f775b798",
   "metadata": {},
   "source": [
    "### GRU model!  \n",
    "\n",
    "Following a similar network structure, I will substitute the two LSTM layers with GRU layers and see if we notice differences in model performance! "
   ]
  },
  {
   "cell_type": "code",
   "execution_count": 91,
   "id": "564ac98d",
   "metadata": {
    "scrolled": true
   },
   "outputs": [
    {
     "name": "stdout",
     "output_type": "stream",
     "text": [
      "You must install pydot (`pip install pydot`) and install graphviz (see instructions at https://graphviz.gitlab.io/download/) for plot_model/model_to_dot to work.\n"
     ]
    }
   ],
   "source": [
    "nwords = 2500\n",
    "drop_rate = .2\n",
    "\n",
    "encoder = tf.keras.layers.TextVectorization(max_tokens=nwords)\n",
    "encoder.adapt(X_train)\n",
    "\n",
    "model = tf.keras.Sequential([\n",
    "    tf.keras.layers.InputLayer(input_shape=[], dtype=tf.string),\n",
    "    encoder,\n",
    "    tf.keras.layers.Embedding(input_dim=len(encoder.get_vocabulary()), output_dim=62, mask_zero=True),\n",
    "    tf.keras.layers.GRU(64),\n",
    "    tf.keras.layers.BatchNormalization(),\n",
    "    tf.keras.layers.Dropout(drop_rate),   \n",
    "    tf.keras.layers.Dense(128, activation='relu'),\n",
    "    tf.keras.layers.BatchNormalization(),\n",
    "    tf.keras.layers.Dropout(drop_rate),   \n",
    "    tf.keras.layers.Dense(1, activation='sigmoid')\n",
    "])\n",
    "tf.keras.utils.plot_model(model)"
   ]
  },
  {
   "cell_type": "code",
   "execution_count": 92,
   "id": "adbfda3c",
   "metadata": {
    "scrolled": true
   },
   "outputs": [
    {
     "name": "stdout",
     "output_type": "stream",
     "text": [
      "Epoch 1/10\n",
      "140/140 [==============================] - 9s 37ms/step - loss: 0.6754 - accuracy: 0.6177 - val_loss: 0.6234 - val_accuracy: 0.8671\n",
      "Epoch 2/10\n",
      "140/140 [==============================] - 4s 27ms/step - loss: 0.4461 - accuracy: 0.8070 - val_loss: 0.4988 - val_accuracy: 0.9138\n",
      "Epoch 3/10\n",
      "140/140 [==============================] - 4s 27ms/step - loss: 0.2938 - accuracy: 0.9042 - val_loss: 0.3246 - val_accuracy: 0.9641\n",
      "Epoch 4/10\n",
      "140/140 [==============================] - 4s 27ms/step - loss: 0.1924 - accuracy: 0.9502 - val_loss: 0.1990 - val_accuracy: 0.9731\n",
      "Epoch 5/10\n",
      "140/140 [==============================] - 4s 29ms/step - loss: 0.1320 - accuracy: 0.9684 - val_loss: 0.1125 - val_accuracy: 0.9767\n",
      "Epoch 6/10\n",
      "140/140 [==============================] - 4s 27ms/step - loss: 0.0871 - accuracy: 0.9841 - val_loss: 0.0865 - val_accuracy: 0.9803\n",
      "Epoch 7/10\n",
      "140/140 [==============================] - 4s 28ms/step - loss: 0.0804 - accuracy: 0.9805 - val_loss: 0.0790 - val_accuracy: 0.9838\n",
      "Epoch 8/10\n",
      "140/140 [==============================] - 4s 28ms/step - loss: 0.0650 - accuracy: 0.9852 - val_loss: 0.0691 - val_accuracy: 0.9803\n",
      "Epoch 9/10\n",
      "140/140 [==============================] - 4s 28ms/step - loss: 0.0542 - accuracy: 0.9868 - val_loss: 0.0604 - val_accuracy: 0.9803\n",
      "Epoch 10/10\n",
      "140/140 [==============================] - 4s 28ms/step - loss: 0.0438 - accuracy: 0.9910 - val_loss: 0.0571 - val_accuracy: 0.9785\n"
     ]
    }
   ],
   "source": [
    "model.compile(loss=tf.keras.losses.BinaryCrossentropy(from_logits=False),\n",
    "      optimizer=tf.keras.optimizers.Adam(.0002),\n",
    "      metrics=['accuracy'])\n",
    "\n",
    "history = model.fit(X_train, y_train, validation_data=(X_valid,y_valid),epochs=10, batch_size=32) "
   ]
  },
  {
   "cell_type": "code",
   "execution_count": 93,
   "id": "30d85bf0",
   "metadata": {},
   "outputs": [
    {
     "name": "stdout",
     "output_type": "stream",
     "text": [
      "Accuracy: 0.978494623655914 \n",
      "weighted F1-score: 0.9778367454861374\n"
     ]
    },
    {
     "data": {
      "image/png": "[encoded data removed]",
      "text/plain": [
       "<Figure size 576x360 with 2 Axes>"
      ]
     },
     "metadata": {
      "needs_background": "light"
     },
     "output_type": "display_data"
    }
   ],
   "source": [
    "yhat = pd.Series((model.predict(X_test)>.5).reshape(-1)).astype(int)\n",
    "\n",
    "name = 'GRU'\n",
    "results_dic[name] = accuracy_metrics( yhat, y_test, name)"
   ]
  },
  {
   "cell_type": "code",
   "execution_count": 94,
   "id": "6246e62c",
   "metadata": {},
   "outputs": [
    {
     "data": {
      "image/png": "[encoded data removed]",
      "text/plain": [
       "<Figure size 720x360 with 2 Axes>"
      ]
     },
     "metadata": {
      "needs_background": "light"
     },
     "output_type": "display_data"
    }
   ],
   "source": [
    "gru_metrics = pd.DataFrame(history.history)\n",
    "\n",
    "fig,axs = plt.subplots(1,2,figsize = (10,5))\n",
    "gru_metrics[['loss','val_loss']].plot(ax = axs[0])\n",
    "gru_metrics[['accuracy','val_accuracy']].plot(ax = axs[1])\n",
    "plt.show()"
   ]
  },
  {
   "cell_type": "code",
   "execution_count": 95,
   "id": "e4ea1a33",
   "metadata": {},
   "outputs": [
    {
     "data": {
      "text/html": [
       "<div>\n",
       "<style scoped>\n",
       "    .dataframe tbody tr th:only-of-type {\n",
       "        vertical-align: middle;\n",
       "    }\n",
       "\n",
       "    .dataframe tbody tr th {\n",
       "        vertical-align: top;\n",
       "    }\n",
       "\n",
       "    .dataframe thead th {\n",
       "        text-align: right;\n",
       "    }\n",
       "</style>\n",
       "<table border=\"1\" class=\"dataframe\">\n",
       "  <thead>\n",
       "    <tr style=\"text-align: right;\">\n",
       "      <th></th>\n",
       "      <th>Tf-idf + Naive Bayes</th>\n",
       "      <th>Tf-idf + SVM</th>\n",
       "      <th>LSTM</th>\n",
       "      <th>GRU</th>\n",
       "    </tr>\n",
       "  </thead>\n",
       "  <tbody>\n",
       "    <tr>\n",
       "      <th>Accuracy</th>\n",
       "      <td>0.973094</td>\n",
       "      <td>0.971300</td>\n",
       "      <td>0.982079</td>\n",
       "      <td>0.978495</td>\n",
       "    </tr>\n",
       "    <tr>\n",
       "      <th>F1-score</th>\n",
       "      <td>0.973249</td>\n",
       "      <td>0.972381</td>\n",
       "      <td>0.981648</td>\n",
       "      <td>0.977837</td>\n",
       "    </tr>\n",
       "  </tbody>\n",
       "</table>\n",
       "</div>"
      ],
      "text/plain": [
       "          Tf-idf + Naive Bayes  Tf-idf + SVM      LSTM       GRU\n",
       "Accuracy              0.973094      0.971300  0.982079  0.978495\n",
       "F1-score              0.973249      0.972381  0.981648  0.977837"
      ]
     },
     "execution_count": 95,
     "metadata": {},
     "output_type": "execute_result"
    }
   ],
   "source": [
    "metrics = pd.DataFrame(results_dic, index = ['Accuracy', 'F1-score'])\n",
    "metrics"
   ]
  },
  {
   "cell_type": "markdown",
   "id": "f4b61cd7",
   "metadata": {},
   "source": [
    "GRU and LSTM have shown great results so far, and perhaps we could improve a little more with some fine tuning of the model (e.g. by tweaking the amount of layers / neurons or by changing the optimizer or the learning rate). \n",
    "\n",
    "It would also be interesting to see if we could break into the 99% mark with BERT or other transformers, but all of this is outside of the scope of this notebook (maybe I could get back to this in the future and try these possibilities!)"
   ]
  }
 ],
 "metadata": {
  "kernelspec": {
   "display_name": "Python 3 (ipykernel)",
   "language": "python",
   "name": "python3"
  },
  "language_info": {
   "codemirror_mode": {
    "name": "ipython",
    "version": 3
   },
   "file_extension": ".py",
   "mimetype": "text/x-python",
   "name": "python",
   "nbconvert_exporter": "python",
   "pygments_lexer": "ipython3",
   "version": "3.9.7"
  },
  "varInspector": {
   "cols": {
    "lenName": 16,
    "lenType": 16,
    "lenVar": 40
   },
   "kernels_config": {
    "python": {
     "delete_cmd_postfix": "",
     "delete_cmd_prefix": "del ",
     "library": "var_list.py",
     "varRefreshCmd": "print(var_dic_list())"
    },
    "r": {
     "delete_cmd_postfix": ") ",
     "delete_cmd_prefix": "rm(",
     "library": "var_list.r",
     "varRefreshCmd": "cat(var_dic_list()) "
    }
   },
   "types_to_exclude": [
    "module",
    "function",
    "builtin_function_or_method",
    "instance",
    "_Feature"
   ],
   "window_display": false
  }
 },
 "nbformat": 4,
 "nbformat_minor": 5
}
